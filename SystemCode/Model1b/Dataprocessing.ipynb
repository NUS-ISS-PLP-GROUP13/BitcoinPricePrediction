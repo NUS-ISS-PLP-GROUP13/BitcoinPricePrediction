{
 "cells": [
  {
   "cell_type": "code",
   "execution_count": 2,
   "id": "german-letters",
   "metadata": {},
   "outputs": [],
   "source": [
    "import pandas as pd\n",
    "import numpy as np"
   ]
  },
  {
   "cell_type": "code",
   "execution_count": 2,
   "id": "informational-interview",
   "metadata": {},
   "outputs": [],
   "source": [
    "# group score by day in one excel"
   ]
  },
  {
   "cell_type": "code",
   "execution_count": 3,
   "id": "charged-question",
   "metadata": {},
   "outputs": [],
   "source": [
    "bitcoinTalk = pd.read_csv(\"reddit_part2_sentiment_score.csv\", \n",
    "                 header=0,usecols=[1,2])"
   ]
  },
  {
   "cell_type": "code",
   "execution_count": 4,
   "id": "thirty-upset",
   "metadata": {
    "scrolled": true
   },
   "outputs": [
    {
     "data": {
      "text/html": [
       "<div>\n",
       "<style scoped>\n",
       "    .dataframe tbody tr th:only-of-type {\n",
       "        vertical-align: middle;\n",
       "    }\n",
       "\n",
       "    .dataframe tbody tr th {\n",
       "        vertical-align: top;\n",
       "    }\n",
       "\n",
       "    .dataframe thead th {\n",
       "        text-align: right;\n",
       "    }\n",
       "</style>\n",
       "<table border=\"1\" class=\"dataframe\">\n",
       "  <thead>\n",
       "    <tr style=\"text-align: right;\">\n",
       "      <th></th>\n",
       "      <th>sentiment_score</th>\n",
       "      <th>date</th>\n",
       "    </tr>\n",
       "  </thead>\n",
       "  <tbody>\n",
       "    <tr>\n",
       "      <th>0</th>\n",
       "      <td>0.997730</td>\n",
       "      <td>28/03/2018</td>\n",
       "    </tr>\n",
       "    <tr>\n",
       "      <th>1</th>\n",
       "      <td>-0.899490</td>\n",
       "      <td>28/03/2018</td>\n",
       "    </tr>\n",
       "    <tr>\n",
       "      <th>2</th>\n",
       "      <td>0.978684</td>\n",
       "      <td>28/03/2018</td>\n",
       "    </tr>\n",
       "    <tr>\n",
       "      <th>3</th>\n",
       "      <td>0.995980</td>\n",
       "      <td>28/03/2018</td>\n",
       "    </tr>\n",
       "    <tr>\n",
       "      <th>4</th>\n",
       "      <td>0.771270</td>\n",
       "      <td>28/03/2018</td>\n",
       "    </tr>\n",
       "  </tbody>\n",
       "</table>\n",
       "</div>"
      ],
      "text/plain": [
       "   sentiment_score        date\n",
       "0         0.997730  28/03/2018\n",
       "1        -0.899490  28/03/2018\n",
       "2         0.978684  28/03/2018\n",
       "3         0.995980  28/03/2018\n",
       "4         0.771270  28/03/2018"
      ]
     },
     "execution_count": 4,
     "metadata": {},
     "output_type": "execute_result"
    }
   ],
   "source": [
    "bitcoinTalk.head()"
   ]
  },
  {
   "cell_type": "code",
   "execution_count": 5,
   "id": "introductory-clothing",
   "metadata": {},
   "outputs": [],
   "source": [
    "grouped = bitcoinTalk.groupby(\"date\")"
   ]
  },
  {
   "cell_type": "code",
   "execution_count": 6,
   "id": "fifteen-gospel",
   "metadata": {},
   "outputs": [
    {
     "data": {
      "text/plain": [
       "(121801, 2)"
      ]
     },
     "execution_count": 6,
     "metadata": {},
     "output_type": "execute_result"
    }
   ],
   "source": [
    "bitcoinTalk.shape"
   ]
  },
  {
   "cell_type": "code",
   "execution_count": 10,
   "id": "intermediate-lounge",
   "metadata": {},
   "outputs": [
    {
     "data": {
      "text/html": [
       "<div>\n",
       "<style scoped>\n",
       "    .dataframe tbody tr th:only-of-type {\n",
       "        vertical-align: middle;\n",
       "    }\n",
       "\n",
       "    .dataframe tbody tr th {\n",
       "        vertical-align: top;\n",
       "    }\n",
       "\n",
       "    .dataframe thead th {\n",
       "        text-align: right;\n",
       "    }\n",
       "</style>\n",
       "<table border=\"1\" class=\"dataframe\">\n",
       "  <thead>\n",
       "    <tr style=\"text-align: right;\">\n",
       "      <th></th>\n",
       "      <th>sentiment_score</th>\n",
       "    </tr>\n",
       "    <tr>\n",
       "      <th>date</th>\n",
       "      <th></th>\n",
       "    </tr>\n",
       "  </thead>\n",
       "  <tbody>\n",
       "    <tr>\n",
       "      <th>01/01/2019</th>\n",
       "      <td>0.326837</td>\n",
       "    </tr>\n",
       "    <tr>\n",
       "      <th>01/02/2019</th>\n",
       "      <td>0.200740</td>\n",
       "    </tr>\n",
       "    <tr>\n",
       "      <th>01/03/2019</th>\n",
       "      <td>0.203099</td>\n",
       "    </tr>\n",
       "    <tr>\n",
       "      <th>01/04/2018</th>\n",
       "      <td>0.221544</td>\n",
       "    </tr>\n",
       "    <tr>\n",
       "      <th>01/04/2019</th>\n",
       "      <td>0.282552</td>\n",
       "    </tr>\n",
       "    <tr>\n",
       "      <th>...</th>\n",
       "      <td>...</td>\n",
       "    </tr>\n",
       "    <tr>\n",
       "      <th>31/08/2018</th>\n",
       "      <td>0.115960</td>\n",
       "    </tr>\n",
       "    <tr>\n",
       "      <th>31/08/2019</th>\n",
       "      <td>0.272236</td>\n",
       "    </tr>\n",
       "    <tr>\n",
       "      <th>31/10/2018</th>\n",
       "      <td>0.232351</td>\n",
       "    </tr>\n",
       "    <tr>\n",
       "      <th>31/10/2019</th>\n",
       "      <td>-0.053041</td>\n",
       "    </tr>\n",
       "    <tr>\n",
       "      <th>31/12/2018</th>\n",
       "      <td>0.313282</td>\n",
       "    </tr>\n",
       "  </tbody>\n",
       "</table>\n",
       "<p>587 rows × 1 columns</p>\n",
       "</div>"
      ],
      "text/plain": [
       "            sentiment_score\n",
       "date                       \n",
       "01/01/2019         0.326837\n",
       "01/02/2019         0.200740\n",
       "01/03/2019         0.203099\n",
       "01/04/2018         0.221544\n",
       "01/04/2019         0.282552\n",
       "...                     ...\n",
       "31/08/2018         0.115960\n",
       "31/08/2019         0.272236\n",
       "31/10/2018         0.232351\n",
       "31/10/2019        -0.053041\n",
       "31/12/2018         0.313282\n",
       "\n",
       "[587 rows x 1 columns]"
      ]
     },
     "execution_count": 10,
     "metadata": {},
     "output_type": "execute_result"
    }
   ],
   "source": [
    "grouped.mean()"
   ]
  },
  {
   "cell_type": "code",
   "execution_count": 98,
   "id": "square-intermediate",
   "metadata": {},
   "outputs": [],
   "source": [
    "grouped = grouped.mean()"
   ]
  },
  {
   "cell_type": "code",
   "execution_count": 99,
   "id": "experimental-helen",
   "metadata": {},
   "outputs": [],
   "source": [
    "grouped = pd.DataFrame(grouped)"
   ]
  },
  {
   "cell_type": "code",
   "execution_count": 100,
   "id": "decreased-fourth",
   "metadata": {},
   "outputs": [],
   "source": [
    "grouped.to_csv(\"sentiment\\\\reddit_sentiment_part2.csv\")"
   ]
  },
  {
   "cell_type": "code",
   "execution_count": null,
   "id": "textile-baptist",
   "metadata": {},
   "outputs": [],
   "source": [
    "# group different excels into one file"
   ]
  },
  {
   "cell_type": "code",
   "execution_count": 119,
   "id": "stable-religious",
   "metadata": {},
   "outputs": [],
   "source": [
    "file1 = \"sentiment\\\\bitcoinTalk_sentiment_part1.csv\""
   ]
  },
  {
   "cell_type": "code",
   "execution_count": 120,
   "id": "promotional-consolidation",
   "metadata": {},
   "outputs": [],
   "source": [
    "file2 = \"sentiment\\\\bitcoinTalk_sentiment_part2.csv\""
   ]
  },
  {
   "cell_type": "code",
   "execution_count": 121,
   "id": "wooden-spectacular",
   "metadata": {},
   "outputs": [],
   "source": [
    "file3 = \"sentiment\\\\bitcoinTalk_sentiment_part3.csv\""
   ]
  },
  {
   "cell_type": "code",
   "execution_count": 122,
   "id": "incorrect-brunswick",
   "metadata": {},
   "outputs": [],
   "source": [
    "file4 = \"sentiment\\\\bitcoinTalk_sentiment_part4.csv\""
   ]
  },
  {
   "cell_type": "code",
   "execution_count": 123,
   "id": "indian-appreciation",
   "metadata": {},
   "outputs": [],
   "source": [
    "file5 = \"sentiment\\\\bitcoinTalk_sentiment_part5.csv\""
   ]
  },
  {
   "cell_type": "code",
   "execution_count": 124,
   "id": "executed-person",
   "metadata": {},
   "outputs": [],
   "source": [
    "bitcoinTalk_1 = pd.read_csv(file1,header=0)"
   ]
  },
  {
   "cell_type": "code",
   "execution_count": 127,
   "id": "ordinary-surrey",
   "metadata": {},
   "outputs": [],
   "source": [
    "bitcoinTalk_2 = pd.read_csv(file2,header=0)\n",
    "bitcoinTalk_3 = pd.read_csv(file3,header=0)\n",
    "bitcoinTalk_4 = pd.read_csv(file4,header=0)\n",
    "bitcoinTalk_5 = pd.read_csv(file5,header=0)"
   ]
  },
  {
   "cell_type": "code",
   "execution_count": 128,
   "id": "streaming-trigger",
   "metadata": {
    "scrolled": true
   },
   "outputs": [
    {
     "name": "stdout",
     "output_type": "stream",
     "text": [
      "(190, 2)\n",
      "(149, 2)\n",
      "(337, 2)\n",
      "(821, 2)\n",
      "(905, 2)\n"
     ]
    }
   ],
   "source": [
    "print(bitcoinTalk_1.shape)\n",
    "print(bitcoinTalk_2.shape)\n",
    "print(bitcoinTalk_3.shape)\n",
    "print(bitcoinTalk_4.shape)\n",
    "print(bitcoinTalk_5.shape)\n"
   ]
  },
  {
   "cell_type": "code",
   "execution_count": 134,
   "id": "educated-mobility",
   "metadata": {},
   "outputs": [],
   "source": [
    "bitcoinTalk=pd.concat([bitcoinTalk_1,bitcoinTalk_2,bitcoinTalk_3,bitcoinTalk_4,bitcoinTalk_5])"
   ]
  },
  {
   "cell_type": "code",
   "execution_count": 135,
   "id": "velvet-schema",
   "metadata": {},
   "outputs": [
    {
     "data": {
      "text/plain": [
       "(2402, 2)"
      ]
     },
     "execution_count": 135,
     "metadata": {},
     "output_type": "execute_result"
    }
   ],
   "source": [
    "bitcoinTalk.shape"
   ]
  },
  {
   "cell_type": "code",
   "execution_count": 136,
   "id": "filled-assumption",
   "metadata": {},
   "outputs": [
    {
     "data": {
      "text/html": [
       "<div>\n",
       "<style scoped>\n",
       "    .dataframe tbody tr th:only-of-type {\n",
       "        vertical-align: middle;\n",
       "    }\n",
       "\n",
       "    .dataframe tbody tr th {\n",
       "        vertical-align: top;\n",
       "    }\n",
       "\n",
       "    .dataframe thead th {\n",
       "        text-align: right;\n",
       "    }\n",
       "</style>\n",
       "<table border=\"1\" class=\"dataframe\">\n",
       "  <thead>\n",
       "    <tr style=\"text-align: right;\">\n",
       "      <th></th>\n",
       "      <th>date</th>\n",
       "      <th>sentiment_score</th>\n",
       "    </tr>\n",
       "  </thead>\n",
       "  <tbody>\n",
       "    <tr>\n",
       "      <th>0</th>\n",
       "      <td>2017/1/1</td>\n",
       "      <td>0.514349</td>\n",
       "    </tr>\n",
       "    <tr>\n",
       "      <th>1</th>\n",
       "      <td>2017/1/10</td>\n",
       "      <td>0.556200</td>\n",
       "    </tr>\n",
       "    <tr>\n",
       "      <th>2</th>\n",
       "      <td>2017/1/11</td>\n",
       "      <td>0.318405</td>\n",
       "    </tr>\n",
       "    <tr>\n",
       "      <th>3</th>\n",
       "      <td>2017/1/12</td>\n",
       "      <td>0.630780</td>\n",
       "    </tr>\n",
       "    <tr>\n",
       "      <th>4</th>\n",
       "      <td>2017/1/13</td>\n",
       "      <td>0.437245</td>\n",
       "    </tr>\n",
       "  </tbody>\n",
       "</table>\n",
       "</div>"
      ],
      "text/plain": [
       "        date  sentiment_score\n",
       "0   2017/1/1         0.514349\n",
       "1  2017/1/10         0.556200\n",
       "2  2017/1/11         0.318405\n",
       "3  2017/1/12         0.630780\n",
       "4  2017/1/13         0.437245"
      ]
     },
     "execution_count": 136,
     "metadata": {},
     "output_type": "execute_result"
    }
   ],
   "source": [
    "bitcoinTalk.head()"
   ]
  },
  {
   "cell_type": "code",
   "execution_count": 137,
   "id": "threaded-seeking",
   "metadata": {},
   "outputs": [
    {
     "data": {
      "text/html": [
       "<div>\n",
       "<style scoped>\n",
       "    .dataframe tbody tr th:only-of-type {\n",
       "        vertical-align: middle;\n",
       "    }\n",
       "\n",
       "    .dataframe tbody tr th {\n",
       "        vertical-align: top;\n",
       "    }\n",
       "\n",
       "    .dataframe thead th {\n",
       "        text-align: right;\n",
       "    }\n",
       "</style>\n",
       "<table border=\"1\" class=\"dataframe\">\n",
       "  <thead>\n",
       "    <tr style=\"text-align: right;\">\n",
       "      <th></th>\n",
       "      <th>date</th>\n",
       "      <th>sentiment_score</th>\n",
       "    </tr>\n",
       "  </thead>\n",
       "  <tbody>\n",
       "    <tr>\n",
       "      <th>0</th>\n",
       "      <td>2017/1/1</td>\n",
       "      <td>0.514349</td>\n",
       "    </tr>\n",
       "    <tr>\n",
       "      <th>1</th>\n",
       "      <td>2017/1/10</td>\n",
       "      <td>0.556200</td>\n",
       "    </tr>\n",
       "    <tr>\n",
       "      <th>2</th>\n",
       "      <td>2017/1/11</td>\n",
       "      <td>0.318405</td>\n",
       "    </tr>\n",
       "    <tr>\n",
       "      <th>3</th>\n",
       "      <td>2017/1/12</td>\n",
       "      <td>0.630780</td>\n",
       "    </tr>\n",
       "    <tr>\n",
       "      <th>4</th>\n",
       "      <td>2017/1/13</td>\n",
       "      <td>0.437245</td>\n",
       "    </tr>\n",
       "  </tbody>\n",
       "</table>\n",
       "</div>"
      ],
      "text/plain": [
       "        date  sentiment_score\n",
       "0   2017/1/1         0.514349\n",
       "1  2017/1/10         0.556200\n",
       "2  2017/1/11         0.318405\n",
       "3  2017/1/12         0.630780\n",
       "4  2017/1/13         0.437245"
      ]
     },
     "execution_count": 137,
     "metadata": {},
     "output_type": "execute_result"
    }
   ],
   "source": [
    "bitcoinTalk_1.head()"
   ]
  },
  {
   "cell_type": "code",
   "execution_count": 148,
   "id": "selected-offering",
   "metadata": {},
   "outputs": [],
   "source": [
    "bitcoinTalk_grouped = bitcoinTalk.groupby(\"date\")"
   ]
  },
  {
   "cell_type": "code",
   "execution_count": 149,
   "id": "mathematical-bronze",
   "metadata": {},
   "outputs": [],
   "source": [
    "bitcoinTalk_grouped = pd.DataFrame(bitcoinTalk_grouped.mean())"
   ]
  },
  {
   "cell_type": "code",
   "execution_count": 150,
   "id": "dated-jefferson",
   "metadata": {},
   "outputs": [
    {
     "data": {
      "text/plain": [
       "(1461, 1)"
      ]
     },
     "execution_count": 150,
     "metadata": {},
     "output_type": "execute_result"
    }
   ],
   "source": [
    "bitcoinTalk_grouped.shape"
   ]
  },
  {
   "cell_type": "code",
   "execution_count": 172,
   "id": "chronic-sheriff",
   "metadata": {},
   "outputs": [
    {
     "data": {
      "text/html": [
       "<div>\n",
       "<style scoped>\n",
       "    .dataframe tbody tr th:only-of-type {\n",
       "        vertical-align: middle;\n",
       "    }\n",
       "\n",
       "    .dataframe tbody tr th {\n",
       "        vertical-align: top;\n",
       "    }\n",
       "\n",
       "    .dataframe thead th {\n",
       "        text-align: right;\n",
       "    }\n",
       "</style>\n",
       "<table border=\"1\" class=\"dataframe\">\n",
       "  <thead>\n",
       "    <tr style=\"text-align: right;\">\n",
       "      <th></th>\n",
       "      <th>sentiment_score</th>\n",
       "    </tr>\n",
       "    <tr>\n",
       "      <th>date</th>\n",
       "      <th></th>\n",
       "    </tr>\n",
       "  </thead>\n",
       "  <tbody>\n",
       "    <tr>\n",
       "      <th>2017/1/1</th>\n",
       "      <td>0.514349</td>\n",
       "    </tr>\n",
       "    <tr>\n",
       "      <th>2017/1/10</th>\n",
       "      <td>0.516377</td>\n",
       "    </tr>\n",
       "    <tr>\n",
       "      <th>2017/1/11</th>\n",
       "      <td>0.571783</td>\n",
       "    </tr>\n",
       "    <tr>\n",
       "      <th>2017/1/12</th>\n",
       "      <td>0.745859</td>\n",
       "    </tr>\n",
       "    <tr>\n",
       "      <th>2017/1/13</th>\n",
       "      <td>0.454587</td>\n",
       "    </tr>\n",
       "  </tbody>\n",
       "</table>\n",
       "</div>"
      ],
      "text/plain": [
       "           sentiment_score\n",
       "date                      \n",
       "2017/1/1          0.514349\n",
       "2017/1/10         0.516377\n",
       "2017/1/11         0.571783\n",
       "2017/1/12         0.745859\n",
       "2017/1/13         0.454587"
      ]
     },
     "execution_count": 172,
     "metadata": {},
     "output_type": "execute_result"
    }
   ],
   "source": [
    "bitcoinTalk_grouped.head()"
   ]
  },
  {
   "cell_type": "code",
   "execution_count": 151,
   "id": "sonic-kitchen",
   "metadata": {},
   "outputs": [],
   "source": [
    "bitcoinTalk_grouped.to_csv(\"sentiment\\\\bitcoinTalk_sentimentscore.csv\")"
   ]
  },
  {
   "cell_type": "code",
   "execution_count": 152,
   "id": "italic-thumb",
   "metadata": {},
   "outputs": [],
   "source": [
    "reddit_file1 = \"sentiment\\\\reddit_sentiment_part1.csv\""
   ]
  },
  {
   "cell_type": "code",
   "execution_count": 153,
   "id": "static-receiver",
   "metadata": {},
   "outputs": [],
   "source": [
    "reddit_file2 = \"sentiment\\\\reddit_sentiment_part2.csv\""
   ]
  },
  {
   "cell_type": "code",
   "execution_count": 154,
   "id": "aggressive-marker",
   "metadata": {},
   "outputs": [],
   "source": [
    "reddit_file3 = \"sentiment\\\\reddit_sentiment_part3.csv\""
   ]
  },
  {
   "cell_type": "code",
   "execution_count": 155,
   "id": "alleged-sociology",
   "metadata": {},
   "outputs": [],
   "source": [
    "reddit_1 = pd.read_csv(reddit_file1,header=0)\n",
    "reddit_2 = pd.read_csv(reddit_file2,header=0)\n",
    "reddit_3 = pd.read_csv(reddit_file3,header=0)"
   ]
  },
  {
   "cell_type": "code",
   "execution_count": 161,
   "id": "atlantic-bidding",
   "metadata": {},
   "outputs": [],
   "source": [
    "reddit = pd.concat([reddit_1,reddit_2,reddit_3])"
   ]
  },
  {
   "cell_type": "code",
   "execution_count": 160,
   "id": "pacific-glenn",
   "metadata": {},
   "outputs": [
    {
     "name": "stdout",
     "output_type": "stream",
     "text": [
      "(886, 2)\n",
      "(587, 2)\n",
      "(434, 2)\n"
     ]
    }
   ],
   "source": [
    "print(reddit_1.shape)\n",
    "print(reddit_2.shape)\n",
    "print(reddit_3.shape)"
   ]
  },
  {
   "cell_type": "code",
   "execution_count": 173,
   "id": "afraid-compact",
   "metadata": {},
   "outputs": [
    {
     "data": {
      "text/html": [
       "<div>\n",
       "<style scoped>\n",
       "    .dataframe tbody tr th:only-of-type {\n",
       "        vertical-align: middle;\n",
       "    }\n",
       "\n",
       "    .dataframe tbody tr th {\n",
       "        vertical-align: top;\n",
       "    }\n",
       "\n",
       "    .dataframe thead th {\n",
       "        text-align: right;\n",
       "    }\n",
       "</style>\n",
       "<table border=\"1\" class=\"dataframe\">\n",
       "  <thead>\n",
       "    <tr style=\"text-align: right;\">\n",
       "      <th></th>\n",
       "      <th>date</th>\n",
       "      <th>sentiment_score</th>\n",
       "    </tr>\n",
       "  </thead>\n",
       "  <tbody>\n",
       "    <tr>\n",
       "      <th>0</th>\n",
       "      <td>01/01/2017</td>\n",
       "      <td>0.370568</td>\n",
       "    </tr>\n",
       "    <tr>\n",
       "      <th>1</th>\n",
       "      <td>01/01/2018</td>\n",
       "      <td>0.190696</td>\n",
       "    </tr>\n",
       "    <tr>\n",
       "      <th>2</th>\n",
       "      <td>01/01/2020</td>\n",
       "      <td>0.081500</td>\n",
       "    </tr>\n",
       "    <tr>\n",
       "      <th>3</th>\n",
       "      <td>01/01/2021</td>\n",
       "      <td>0.321024</td>\n",
       "    </tr>\n",
       "    <tr>\n",
       "      <th>4</th>\n",
       "      <td>01/02/2017</td>\n",
       "      <td>0.337671</td>\n",
       "    </tr>\n",
       "  </tbody>\n",
       "</table>\n",
       "</div>"
      ],
      "text/plain": [
       "         date  sentiment_score\n",
       "0  01/01/2017         0.370568\n",
       "1  01/01/2018         0.190696\n",
       "2  01/01/2020         0.081500\n",
       "3  01/01/2021         0.321024\n",
       "4  01/02/2017         0.337671"
      ]
     },
     "execution_count": 173,
     "metadata": {},
     "output_type": "execute_result"
    }
   ],
   "source": [
    "reddit_1.head()"
   ]
  },
  {
   "cell_type": "code",
   "execution_count": 162,
   "id": "anticipated-experience",
   "metadata": {},
   "outputs": [
    {
     "data": {
      "text/plain": [
       "(1907, 2)"
      ]
     },
     "execution_count": 162,
     "metadata": {},
     "output_type": "execute_result"
    }
   ],
   "source": [
    "reddit.shape"
   ]
  },
  {
   "cell_type": "code",
   "execution_count": 174,
   "id": "electric-capital",
   "metadata": {},
   "outputs": [
    {
     "data": {
      "text/html": [
       "<div>\n",
       "<style scoped>\n",
       "    .dataframe tbody tr th:only-of-type {\n",
       "        vertical-align: middle;\n",
       "    }\n",
       "\n",
       "    .dataframe tbody tr th {\n",
       "        vertical-align: top;\n",
       "    }\n",
       "\n",
       "    .dataframe thead th {\n",
       "        text-align: right;\n",
       "    }\n",
       "</style>\n",
       "<table border=\"1\" class=\"dataframe\">\n",
       "  <thead>\n",
       "    <tr style=\"text-align: right;\">\n",
       "      <th></th>\n",
       "      <th>date</th>\n",
       "      <th>sentiment_score</th>\n",
       "    </tr>\n",
       "  </thead>\n",
       "  <tbody>\n",
       "    <tr>\n",
       "      <th>0</th>\n",
       "      <td>01/01/2017</td>\n",
       "      <td>0.370568</td>\n",
       "    </tr>\n",
       "    <tr>\n",
       "      <th>1</th>\n",
       "      <td>01/01/2018</td>\n",
       "      <td>0.190696</td>\n",
       "    </tr>\n",
       "    <tr>\n",
       "      <th>2</th>\n",
       "      <td>01/01/2020</td>\n",
       "      <td>0.081500</td>\n",
       "    </tr>\n",
       "    <tr>\n",
       "      <th>3</th>\n",
       "      <td>01/01/2021</td>\n",
       "      <td>0.321024</td>\n",
       "    </tr>\n",
       "    <tr>\n",
       "      <th>4</th>\n",
       "      <td>01/02/2017</td>\n",
       "      <td>0.337671</td>\n",
       "    </tr>\n",
       "  </tbody>\n",
       "</table>\n",
       "</div>"
      ],
      "text/plain": [
       "         date  sentiment_score\n",
       "0  01/01/2017         0.370568\n",
       "1  01/01/2018         0.190696\n",
       "2  01/01/2020         0.081500\n",
       "3  01/01/2021         0.321024\n",
       "4  01/02/2017         0.337671"
      ]
     },
     "execution_count": 174,
     "metadata": {},
     "output_type": "execute_result"
    }
   ],
   "source": [
    "reddit.head()"
   ]
  },
  {
   "cell_type": "code",
   "execution_count": 175,
   "id": "resistant-smooth",
   "metadata": {},
   "outputs": [],
   "source": [
    "reddit_grouped = pd.DataFrame(reddit.groupby(\"date\").mean())"
   ]
  },
  {
   "cell_type": "code",
   "execution_count": 176,
   "id": "comparative-activation",
   "metadata": {},
   "outputs": [
    {
     "data": {
      "text/plain": [
       "(1472, 1)"
      ]
     },
     "execution_count": 176,
     "metadata": {},
     "output_type": "execute_result"
    }
   ],
   "source": [
    "reddit_grouped.shape"
   ]
  },
  {
   "cell_type": "code",
   "execution_count": 177,
   "id": "based-peace",
   "metadata": {},
   "outputs": [
    {
     "data": {
      "text/html": [
       "<div>\n",
       "<style scoped>\n",
       "    .dataframe tbody tr th:only-of-type {\n",
       "        vertical-align: middle;\n",
       "    }\n",
       "\n",
       "    .dataframe tbody tr th {\n",
       "        vertical-align: top;\n",
       "    }\n",
       "\n",
       "    .dataframe thead th {\n",
       "        text-align: right;\n",
       "    }\n",
       "</style>\n",
       "<table border=\"1\" class=\"dataframe\">\n",
       "  <thead>\n",
       "    <tr style=\"text-align: right;\">\n",
       "      <th></th>\n",
       "      <th>sentiment_score</th>\n",
       "    </tr>\n",
       "    <tr>\n",
       "      <th>date</th>\n",
       "      <th></th>\n",
       "    </tr>\n",
       "  </thead>\n",
       "  <tbody>\n",
       "    <tr>\n",
       "      <th>01/01/2017</th>\n",
       "      <td>0.370568</td>\n",
       "    </tr>\n",
       "    <tr>\n",
       "      <th>01/01/2018</th>\n",
       "      <td>0.190696</td>\n",
       "    </tr>\n",
       "    <tr>\n",
       "      <th>01/01/2019</th>\n",
       "      <td>0.326837</td>\n",
       "    </tr>\n",
       "    <tr>\n",
       "      <th>01/01/2020</th>\n",
       "      <td>0.081500</td>\n",
       "    </tr>\n",
       "    <tr>\n",
       "      <th>01/01/2021</th>\n",
       "      <td>0.321024</td>\n",
       "    </tr>\n",
       "  </tbody>\n",
       "</table>\n",
       "</div>"
      ],
      "text/plain": [
       "            sentiment_score\n",
       "date                       \n",
       "01/01/2017         0.370568\n",
       "01/01/2018         0.190696\n",
       "01/01/2019         0.326837\n",
       "01/01/2020         0.081500\n",
       "01/01/2021         0.321024"
      ]
     },
     "execution_count": 177,
     "metadata": {},
     "output_type": "execute_result"
    }
   ],
   "source": [
    "reddit_grouped.head()"
   ]
  },
  {
   "cell_type": "code",
   "execution_count": 180,
   "id": "greek-blackjack",
   "metadata": {},
   "outputs": [
    {
     "data": {
      "text/plain": [
       "Index(['sentiment_score'], dtype='object')"
      ]
     },
     "execution_count": 180,
     "metadata": {},
     "output_type": "execute_result"
    }
   ],
   "source": [
    "reddit_grouped.columns"
   ]
  },
  {
   "cell_type": "code",
   "execution_count": 181,
   "id": "employed-therapy",
   "metadata": {},
   "outputs": [],
   "source": [
    "reddit_grouped.to_csv(\"sentiment\\\\reddit_sentimentscore.csv\")"
   ]
  },
  {
   "cell_type": "code",
   "execution_count": null,
   "id": "exceptional-cement",
   "metadata": {},
   "outputs": [],
   "source": [
    "# reformat the reddit forum date"
   ]
  },
  {
   "cell_type": "code",
   "execution_count": 10,
   "id": "velvet-finger",
   "metadata": {},
   "outputs": [],
   "source": [
    "from datetime import datetime"
   ]
  },
  {
   "cell_type": "code",
   "execution_count": 187,
   "id": "underlying-complement",
   "metadata": {},
   "outputs": [],
   "source": [
    "lastconnection = datetime.strptime(\"21/12/2008\", \"%d/%m/%Y\").strftime('%Y/%m/%d')"
   ]
  },
  {
   "cell_type": "code",
   "execution_count": 188,
   "id": "round-master",
   "metadata": {},
   "outputs": [
    {
     "data": {
      "text/plain": [
       "'2008/12/21'"
      ]
     },
     "execution_count": 188,
     "metadata": {},
     "output_type": "execute_result"
    }
   ],
   "source": [
    "lastconnection"
   ]
  },
  {
   "cell_type": "code",
   "execution_count": 189,
   "id": "confidential-apartment",
   "metadata": {},
   "outputs": [],
   "source": [
    "reddit_old_format = pd.read_csv(\"sentiment\\\\reddit_sentimentscore.csv\",header=0)"
   ]
  },
  {
   "cell_type": "code",
   "execution_count": 16,
   "id": "adverse-supervision",
   "metadata": {},
   "outputs": [],
   "source": [
    "reddit_counts = pd.read_csv(\"..\\\\total_redit.csv\", header=0)"
   ]
  },
  {
   "cell_type": "code",
   "execution_count": 17,
   "id": "realistic-oracle",
   "metadata": {},
   "outputs": [
    {
     "data": {
      "text/html": [
       "<div>\n",
       "<style scoped>\n",
       "    .dataframe tbody tr th:only-of-type {\n",
       "        vertical-align: middle;\n",
       "    }\n",
       "\n",
       "    .dataframe tbody tr th {\n",
       "        vertical-align: top;\n",
       "    }\n",
       "\n",
       "    .dataframe thead th {\n",
       "        text-align: right;\n",
       "    }\n",
       "</style>\n",
       "<table border=\"1\" class=\"dataframe\">\n",
       "  <thead>\n",
       "    <tr style=\"text-align: right;\">\n",
       "      <th></th>\n",
       "      <th>Date</th>\n",
       "      <th>Total Comments</th>\n",
       "    </tr>\n",
       "  </thead>\n",
       "  <tbody>\n",
       "    <tr>\n",
       "      <th>0</th>\n",
       "      <td>01/01/2017</td>\n",
       "      <td>206</td>\n",
       "    </tr>\n",
       "    <tr>\n",
       "      <th>1</th>\n",
       "      <td>02/01/2017</td>\n",
       "      <td>239</td>\n",
       "    </tr>\n",
       "    <tr>\n",
       "      <th>2</th>\n",
       "      <td>03/01/2017</td>\n",
       "      <td>307</td>\n",
       "    </tr>\n",
       "    <tr>\n",
       "      <th>3</th>\n",
       "      <td>04/01/2017</td>\n",
       "      <td>202</td>\n",
       "    </tr>\n",
       "    <tr>\n",
       "      <th>4</th>\n",
       "      <td>05/01/2017</td>\n",
       "      <td>290</td>\n",
       "    </tr>\n",
       "  </tbody>\n",
       "</table>\n",
       "</div>"
      ],
      "text/plain": [
       "         Date  Total Comments\n",
       "0  01/01/2017             206\n",
       "1  02/01/2017             239\n",
       "2  03/01/2017             307\n",
       "3  04/01/2017             202\n",
       "4  05/01/2017             290"
      ]
     },
     "execution_count": 17,
     "metadata": {},
     "output_type": "execute_result"
    }
   ],
   "source": [
    "reddit_counts.head()"
   ]
  },
  {
   "cell_type": "code",
   "execution_count": 18,
   "id": "dutch-ratio",
   "metadata": {},
   "outputs": [],
   "source": [
    "def updateDate(d):\n",
    "    return datetime.strptime(d, \"%d/%m/%Y\").strftime('%Y/%m/%d')"
   ]
  },
  {
   "cell_type": "code",
   "execution_count": 22,
   "id": "valuable-venue",
   "metadata": {},
   "outputs": [],
   "source": [
    "reddit_counts_new = pd.DataFrame()\n",
    "reddit_counts_new[\"date\"] = reddit_counts.Date.apply(updateDate)\n",
    "reddit_counts_new[\"Total_number\"] = reddit_counts[\"Total Comments\"]"
   ]
  },
  {
   "cell_type": "code",
   "execution_count": 24,
   "id": "directed-merchant",
   "metadata": {},
   "outputs": [
    {
     "data": {
      "text/html": [
       "<div>\n",
       "<style scoped>\n",
       "    .dataframe tbody tr th:only-of-type {\n",
       "        vertical-align: middle;\n",
       "    }\n",
       "\n",
       "    .dataframe tbody tr th {\n",
       "        vertical-align: top;\n",
       "    }\n",
       "\n",
       "    .dataframe thead th {\n",
       "        text-align: right;\n",
       "    }\n",
       "</style>\n",
       "<table border=\"1\" class=\"dataframe\">\n",
       "  <thead>\n",
       "    <tr style=\"text-align: right;\">\n",
       "      <th></th>\n",
       "      <th>date</th>\n",
       "      <th>Total_number</th>\n",
       "    </tr>\n",
       "  </thead>\n",
       "  <tbody>\n",
       "    <tr>\n",
       "      <th>0</th>\n",
       "      <td>2017/01/01</td>\n",
       "      <td>206</td>\n",
       "    </tr>\n",
       "    <tr>\n",
       "      <th>1</th>\n",
       "      <td>2017/01/02</td>\n",
       "      <td>239</td>\n",
       "    </tr>\n",
       "    <tr>\n",
       "      <th>2</th>\n",
       "      <td>2017/01/03</td>\n",
       "      <td>307</td>\n",
       "    </tr>\n",
       "    <tr>\n",
       "      <th>3</th>\n",
       "      <td>2017/01/04</td>\n",
       "      <td>202</td>\n",
       "    </tr>\n",
       "    <tr>\n",
       "      <th>4</th>\n",
       "      <td>2017/01/05</td>\n",
       "      <td>290</td>\n",
       "    </tr>\n",
       "  </tbody>\n",
       "</table>\n",
       "</div>"
      ],
      "text/plain": [
       "         date  Total_number\n",
       "0  2017/01/01           206\n",
       "1  2017/01/02           239\n",
       "2  2017/01/03           307\n",
       "3  2017/01/04           202\n",
       "4  2017/01/05           290"
      ]
     },
     "execution_count": 24,
     "metadata": {},
     "output_type": "execute_result"
    }
   ],
   "source": [
    "reddit_counts_new.head()"
   ]
  },
  {
   "cell_type": "code",
   "execution_count": 26,
   "id": "naked-weapon",
   "metadata": {},
   "outputs": [],
   "source": [
    "reddit_counts_new.to_csv(\"number\\\\total_reddit.csv\", index=False)"
   ]
  },
  {
   "cell_type": "code",
   "execution_count": 196,
   "id": "latin-geology",
   "metadata": {},
   "outputs": [],
   "source": [
    "reddit_new_format = pd.DataFrame()\n",
    "reddit_new_format[\"date\"] = reddit_old_format.date.apply(updateDate)"
   ]
  },
  {
   "cell_type": "code",
   "execution_count": 198,
   "id": "accessible-silicon",
   "metadata": {},
   "outputs": [],
   "source": [
    "reddit_new_format[\"sentiment_score\"] = reddit_old_format.sentiment_score"
   ]
  },
  {
   "cell_type": "code",
   "execution_count": 199,
   "id": "comprehensive-affairs",
   "metadata": {},
   "outputs": [
    {
     "data": {
      "text/html": [
       "<div>\n",
       "<style scoped>\n",
       "    .dataframe tbody tr th:only-of-type {\n",
       "        vertical-align: middle;\n",
       "    }\n",
       "\n",
       "    .dataframe tbody tr th {\n",
       "        vertical-align: top;\n",
       "    }\n",
       "\n",
       "    .dataframe thead th {\n",
       "        text-align: right;\n",
       "    }\n",
       "</style>\n",
       "<table border=\"1\" class=\"dataframe\">\n",
       "  <thead>\n",
       "    <tr style=\"text-align: right;\">\n",
       "      <th></th>\n",
       "      <th>date</th>\n",
       "      <th>sentiment_score</th>\n",
       "    </tr>\n",
       "  </thead>\n",
       "  <tbody>\n",
       "    <tr>\n",
       "      <th>0</th>\n",
       "      <td>2017/01/01</td>\n",
       "      <td>0.370568</td>\n",
       "    </tr>\n",
       "    <tr>\n",
       "      <th>1</th>\n",
       "      <td>2018/01/01</td>\n",
       "      <td>0.190696</td>\n",
       "    </tr>\n",
       "    <tr>\n",
       "      <th>2</th>\n",
       "      <td>2019/01/01</td>\n",
       "      <td>0.326837</td>\n",
       "    </tr>\n",
       "    <tr>\n",
       "      <th>3</th>\n",
       "      <td>2020/01/01</td>\n",
       "      <td>0.081500</td>\n",
       "    </tr>\n",
       "    <tr>\n",
       "      <th>4</th>\n",
       "      <td>2021/01/01</td>\n",
       "      <td>0.321024</td>\n",
       "    </tr>\n",
       "  </tbody>\n",
       "</table>\n",
       "</div>"
      ],
      "text/plain": [
       "         date  sentiment_score\n",
       "0  2017/01/01         0.370568\n",
       "1  2018/01/01         0.190696\n",
       "2  2019/01/01         0.326837\n",
       "3  2020/01/01         0.081500\n",
       "4  2021/01/01         0.321024"
      ]
     },
     "execution_count": 199,
     "metadata": {},
     "output_type": "execute_result"
    }
   ],
   "source": [
    "reddit_new_format.head()"
   ]
  },
  {
   "cell_type": "code",
   "execution_count": 200,
   "id": "choice-wrong",
   "metadata": {},
   "outputs": [],
   "source": [
    "reddit_new_format.to_csv(\"sentiment\\\\reddit_sentimentscore_newformat.csv\")"
   ]
  },
  {
   "cell_type": "code",
   "execution_count": null,
   "id": "illegal-cutting",
   "metadata": {},
   "outputs": [],
   "source": [
    "# count the comments number of every day"
   ]
  },
  {
   "cell_type": "code",
   "execution_count": 2,
   "id": "chief-favor",
   "metadata": {},
   "outputs": [],
   "source": [
    "file1 = \"..\\\\new_data_format\\\\new_data_format\\\\2017-1-7.csv\""
   ]
  },
  {
   "cell_type": "code",
   "execution_count": 3,
   "id": "stopped-female",
   "metadata": {},
   "outputs": [],
   "source": [
    "file2 = \"..\\\\new_data_format\\\\new_data_format\\\\2017-1-9.csv\""
   ]
  },
  {
   "cell_type": "code",
   "execution_count": 4,
   "id": "single-macro",
   "metadata": {},
   "outputs": [],
   "source": [
    "file3 = \"..\\\\new_data_format\\\\new_data_format\\\\2017-2018.csv\""
   ]
  },
  {
   "cell_type": "code",
   "execution_count": 5,
   "id": "amended-given",
   "metadata": {},
   "outputs": [],
   "source": [
    "file4 = \"..\\\\new_data_format\\\\new_data_format\\\\2017-2019.csv\""
   ]
  },
  {
   "cell_type": "code",
   "execution_count": 6,
   "id": "incredible-mattress",
   "metadata": {},
   "outputs": [],
   "source": [
    "file5 = \"..\\\\new_data_format\\\\new_data_format\\\\2017-2020.csv\""
   ]
  },
  {
   "cell_type": "code",
   "execution_count": 8,
   "id": "challenging-tissue",
   "metadata": {},
   "outputs": [],
   "source": [
    "number1 = pd.read_csv(file1,header=0,usecols=[8])"
   ]
  },
  {
   "cell_type": "code",
   "execution_count": 9,
   "id": "graphic-feedback",
   "metadata": {},
   "outputs": [
    {
     "data": {
      "text/plain": [
       "(28396, 1)"
      ]
     },
     "execution_count": 9,
     "metadata": {},
     "output_type": "execute_result"
    }
   ],
   "source": [
    "number1.shape"
   ]
  },
  {
   "cell_type": "code",
   "execution_count": 21,
   "id": "strategic-malaysia",
   "metadata": {},
   "outputs": [],
   "source": [
    "number1_grouped = pd.DataFrame(number1.groupby(\"CommentsTime\").size())"
   ]
  },
  {
   "cell_type": "code",
   "execution_count": 22,
   "id": "boolean-accounting",
   "metadata": {},
   "outputs": [
    {
     "data": {
      "text/plain": [
       "(190, 1)"
      ]
     },
     "execution_count": 22,
     "metadata": {},
     "output_type": "execute_result"
    }
   ],
   "source": [
    "number1_grouped.shape"
   ]
  },
  {
   "cell_type": "code",
   "execution_count": 23,
   "id": "perfect-reggae",
   "metadata": {},
   "outputs": [
    {
     "data": {
      "text/html": [
       "<div>\n",
       "<style scoped>\n",
       "    .dataframe tbody tr th:only-of-type {\n",
       "        vertical-align: middle;\n",
       "    }\n",
       "\n",
       "    .dataframe tbody tr th {\n",
       "        vertical-align: top;\n",
       "    }\n",
       "\n",
       "    .dataframe thead th {\n",
       "        text-align: right;\n",
       "    }\n",
       "</style>\n",
       "<table border=\"1\" class=\"dataframe\">\n",
       "  <thead>\n",
       "    <tr style=\"text-align: right;\">\n",
       "      <th></th>\n",
       "      <th>0</th>\n",
       "    </tr>\n",
       "    <tr>\n",
       "      <th>CommentsTime</th>\n",
       "      <th></th>\n",
       "    </tr>\n",
       "  </thead>\n",
       "  <tbody>\n",
       "    <tr>\n",
       "      <th>2017/1/1</th>\n",
       "      <td>50</td>\n",
       "    </tr>\n",
       "    <tr>\n",
       "      <th>2017/1/10</th>\n",
       "      <td>193</td>\n",
       "    </tr>\n",
       "    <tr>\n",
       "      <th>2017/1/11</th>\n",
       "      <td>199</td>\n",
       "    </tr>\n",
       "    <tr>\n",
       "      <th>2017/1/12</th>\n",
       "      <td>96</td>\n",
       "    </tr>\n",
       "    <tr>\n",
       "      <th>2017/1/13</th>\n",
       "      <td>103</td>\n",
       "    </tr>\n",
       "  </tbody>\n",
       "</table>\n",
       "</div>"
      ],
      "text/plain": [
       "                0\n",
       "CommentsTime     \n",
       "2017/1/1       50\n",
       "2017/1/10     193\n",
       "2017/1/11     199\n",
       "2017/1/12      96\n",
       "2017/1/13     103"
      ]
     },
     "execution_count": 23,
     "metadata": {},
     "output_type": "execute_result"
    }
   ],
   "source": [
    "number1_grouped.head()"
   ]
  },
  {
   "cell_type": "code",
   "execution_count": 24,
   "id": "corporate-being",
   "metadata": {},
   "outputs": [
    {
     "data": {
      "text/plain": [
       "0    28396\n",
       "dtype: int64"
      ]
     },
     "execution_count": 24,
     "metadata": {},
     "output_type": "execute_result"
    }
   ],
   "source": [
    "number1_grouped.sum()"
   ]
  },
  {
   "cell_type": "code",
   "execution_count": 28,
   "id": "secret-wonder",
   "metadata": {},
   "outputs": [],
   "source": [
    "number1_grouped.columns=[\"Number\"]"
   ]
  },
  {
   "cell_type": "code",
   "execution_count": 30,
   "id": "twenty-mauritius",
   "metadata": {},
   "outputs": [],
   "source": [
    "number1_grouped.to_csv(\"number\\\\bitcoinTalk_part1_number.csv\")"
   ]
  },
  {
   "cell_type": "code",
   "execution_count": 31,
   "id": "thousand-active",
   "metadata": {},
   "outputs": [],
   "source": [
    "number2 = pd.read_csv(file2,header=0,usecols=[8])"
   ]
  },
  {
   "cell_type": "code",
   "execution_count": 32,
   "id": "charitable-satisfaction",
   "metadata": {},
   "outputs": [
    {
     "data": {
      "text/plain": [
       "(15952, 1)"
      ]
     },
     "execution_count": 32,
     "metadata": {},
     "output_type": "execute_result"
    }
   ],
   "source": [
    "number2.shape"
   ]
  },
  {
   "cell_type": "code",
   "execution_count": 33,
   "id": "collaborative-verse",
   "metadata": {},
   "outputs": [],
   "source": [
    "number2_grouped = pd.DataFrame(number2.groupby(\"CommentsTime\").size())"
   ]
  },
  {
   "cell_type": "code",
   "execution_count": 35,
   "id": "extensive-qualification",
   "metadata": {},
   "outputs": [
    {
     "data": {
      "text/plain": [
       "(149, 1)"
      ]
     },
     "execution_count": 35,
     "metadata": {},
     "output_type": "execute_result"
    }
   ],
   "source": [
    "number2_grouped.shape"
   ]
  },
  {
   "cell_type": "code",
   "execution_count": 36,
   "id": "distinct-experience",
   "metadata": {},
   "outputs": [
    {
     "data": {
      "text/plain": [
       "0    15952\n",
       "dtype: int64"
      ]
     },
     "execution_count": 36,
     "metadata": {},
     "output_type": "execute_result"
    }
   ],
   "source": [
    "number2_grouped.sum()"
   ]
  },
  {
   "cell_type": "code",
   "execution_count": 37,
   "id": "interpreted-fairy",
   "metadata": {},
   "outputs": [],
   "source": [
    "number2_grouped.columns=[\"Number\"]"
   ]
  },
  {
   "cell_type": "code",
   "execution_count": 38,
   "id": "disabled-verse",
   "metadata": {},
   "outputs": [],
   "source": [
    "number2_grouped.to_csv(\"number\\\\bitcoinTalk_part2_number.csv\")"
   ]
  },
  {
   "cell_type": "code",
   "execution_count": 39,
   "id": "defensive-birmingham",
   "metadata": {},
   "outputs": [],
   "source": [
    "number3 = pd.read_csv(file3,header=0,usecols=[8])\n",
    "number3_grouped = pd.DataFrame(number3.groupby(\"CommentsTime\").size())\n",
    "number3_grouped.columns=[\"Number\"]\n",
    "number3_grouped.to_csv(\"number\\\\bitcoinTalk_part3_number.csv\")"
   ]
  },
  {
   "cell_type": "code",
   "execution_count": 40,
   "id": "white-median",
   "metadata": {},
   "outputs": [],
   "source": [
    "number4 = pd.read_csv(file4,header=0,usecols=[8])\n",
    "number4_grouped = pd.DataFrame(number4.groupby(\"CommentsTime\").size())\n",
    "number4_grouped.columns=[\"Number\"]\n",
    "number4_grouped.to_csv(\"number\\\\bitcoinTalk_part4_number.csv\")"
   ]
  },
  {
   "cell_type": "code",
   "execution_count": 41,
   "id": "double-injury",
   "metadata": {},
   "outputs": [],
   "source": [
    "number5 = pd.read_csv(file5,header=0,usecols=[8])\n",
    "number5_grouped = pd.DataFrame(number5.groupby(\"CommentsTime\").size())\n",
    "number5_grouped.columns=[\"Number\"]\n",
    "number5_grouped.to_csv(\"number\\\\bitcoinTalk_part5_number.csv\")"
   ]
  },
  {
   "cell_type": "code",
   "execution_count": 44,
   "id": "healthy-badge",
   "metadata": {},
   "outputs": [],
   "source": [
    "n1 = pd.read_csv(\"number\\\\bitcoinTalk_part1_number.csv\",header=0)"
   ]
  },
  {
   "cell_type": "code",
   "execution_count": 45,
   "id": "animal-woman",
   "metadata": {},
   "outputs": [
    {
     "data": {
      "text/plain": [
       "(190, 2)"
      ]
     },
     "execution_count": 45,
     "metadata": {},
     "output_type": "execute_result"
    }
   ],
   "source": [
    "n1.shape"
   ]
  },
  {
   "cell_type": "code",
   "execution_count": 49,
   "id": "suffering-registrar",
   "metadata": {},
   "outputs": [],
   "source": [
    "n2 = pd.read_csv(\"number\\\\bitcoinTalk_part2_number.csv\",header=0)\n",
    "n3 = pd.read_csv(\"number\\\\bitcoinTalk_part3_number.csv\",header=0)\n",
    "n4 = pd.read_csv(\"number\\\\bitcoinTalk_part4_number.csv\",header=0)\n",
    "n5 = pd.read_csv(\"number\\\\bitcoinTalk_part5_number.csv\",header=0)"
   ]
  },
  {
   "cell_type": "code",
   "execution_count": 50,
   "id": "sealed-shark",
   "metadata": {},
   "outputs": [],
   "source": [
    "total = pd.DataFrame()\n",
    "total = pd.concat([n1,n2,n3,n4,n5])"
   ]
  },
  {
   "cell_type": "code",
   "execution_count": 51,
   "id": "impaired-intensity",
   "metadata": {},
   "outputs": [
    {
     "data": {
      "text/plain": [
       "(2402, 2)"
      ]
     },
     "execution_count": 51,
     "metadata": {},
     "output_type": "execute_result"
    }
   ],
   "source": [
    "total.shape"
   ]
  },
  {
   "cell_type": "code",
   "execution_count": 53,
   "id": "pleased-depression",
   "metadata": {},
   "outputs": [],
   "source": [
    "total_grouped = total.groupby(\"CommentsTime\").sum()"
   ]
  },
  {
   "cell_type": "code",
   "execution_count": 54,
   "id": "coordinated-professional",
   "metadata": {},
   "outputs": [
    {
     "data": {
      "text/plain": [
       "(1461, 1)"
      ]
     },
     "execution_count": 54,
     "metadata": {},
     "output_type": "execute_result"
    }
   ],
   "source": [
    "total_grouped.shape"
   ]
  },
  {
   "cell_type": "code",
   "execution_count": 55,
   "id": "veterinary-brand",
   "metadata": {},
   "outputs": [
    {
     "data": {
      "text/html": [
       "<div>\n",
       "<style scoped>\n",
       "    .dataframe tbody tr th:only-of-type {\n",
       "        vertical-align: middle;\n",
       "    }\n",
       "\n",
       "    .dataframe tbody tr th {\n",
       "        vertical-align: top;\n",
       "    }\n",
       "\n",
       "    .dataframe thead th {\n",
       "        text-align: right;\n",
       "    }\n",
       "</style>\n",
       "<table border=\"1\" class=\"dataframe\">\n",
       "  <thead>\n",
       "    <tr style=\"text-align: right;\">\n",
       "      <th></th>\n",
       "      <th>Number</th>\n",
       "    </tr>\n",
       "    <tr>\n",
       "      <th>CommentsTime</th>\n",
       "      <th></th>\n",
       "    </tr>\n",
       "  </thead>\n",
       "  <tbody>\n",
       "    <tr>\n",
       "      <th>2017/1/1</th>\n",
       "      <td>50</td>\n",
       "    </tr>\n",
       "    <tr>\n",
       "      <th>2017/1/10</th>\n",
       "      <td>249</td>\n",
       "    </tr>\n",
       "    <tr>\n",
       "      <th>2017/1/11</th>\n",
       "      <td>215</td>\n",
       "    </tr>\n",
       "    <tr>\n",
       "      <th>2017/1/12</th>\n",
       "      <td>139</td>\n",
       "    </tr>\n",
       "    <tr>\n",
       "      <th>2017/1/13</th>\n",
       "      <td>123</td>\n",
       "    </tr>\n",
       "  </tbody>\n",
       "</table>\n",
       "</div>"
      ],
      "text/plain": [
       "              Number\n",
       "CommentsTime        \n",
       "2017/1/1          50\n",
       "2017/1/10        249\n",
       "2017/1/11        215\n",
       "2017/1/12        139\n",
       "2017/1/13        123"
      ]
     },
     "execution_count": 55,
     "metadata": {},
     "output_type": "execute_result"
    }
   ],
   "source": [
    "total_grouped.head()"
   ]
  },
  {
   "cell_type": "code",
   "execution_count": 56,
   "id": "exposed-russian",
   "metadata": {},
   "outputs": [],
   "source": [
    "total_grouped.to_csv(\"number\\\\total_bitcoinTalk.csv\")"
   ]
  },
  {
   "cell_type": "code",
   "execution_count": 27,
   "id": "alpine-fabric",
   "metadata": {},
   "outputs": [],
   "source": [
    "# group bitcointalk and reddit forum data"
   ]
  },
  {
   "cell_type": "code",
   "execution_count": 28,
   "id": "peripheral-formula",
   "metadata": {},
   "outputs": [],
   "source": [
    "# group total comments number"
   ]
  },
  {
   "cell_type": "code",
   "execution_count": 50,
   "id": "charitable-thought",
   "metadata": {},
   "outputs": [],
   "source": [
    "reddit_number = pd.read_csv(\"number\\\\total_reddit.csv\", header=0)\n",
    "bitcoin_number = pd.read_csv(\"number\\\\total_bitcoinTalk.csv\", header=0)"
   ]
  },
  {
   "cell_type": "code",
   "execution_count": 51,
   "id": "permanent-gossip",
   "metadata": {},
   "outputs": [
    {
     "data": {
      "text/plain": [
       "(1471, 2)"
      ]
     },
     "execution_count": 51,
     "metadata": {},
     "output_type": "execute_result"
    }
   ],
   "source": [
    "reddit_number.shape"
   ]
  },
  {
   "cell_type": "code",
   "execution_count": 52,
   "id": "regional-fight",
   "metadata": {},
   "outputs": [
    {
     "data": {
      "text/html": [
       "<div>\n",
       "<style scoped>\n",
       "    .dataframe tbody tr th:only-of-type {\n",
       "        vertical-align: middle;\n",
       "    }\n",
       "\n",
       "    .dataframe tbody tr th {\n",
       "        vertical-align: top;\n",
       "    }\n",
       "\n",
       "    .dataframe thead th {\n",
       "        text-align: right;\n",
       "    }\n",
       "</style>\n",
       "<table border=\"1\" class=\"dataframe\">\n",
       "  <thead>\n",
       "    <tr style=\"text-align: right;\">\n",
       "      <th></th>\n",
       "      <th>date</th>\n",
       "      <th>Total_number</th>\n",
       "    </tr>\n",
       "  </thead>\n",
       "  <tbody>\n",
       "    <tr>\n",
       "      <th>0</th>\n",
       "      <td>2017/1/1</td>\n",
       "      <td>206</td>\n",
       "    </tr>\n",
       "    <tr>\n",
       "      <th>1</th>\n",
       "      <td>2017/1/2</td>\n",
       "      <td>239</td>\n",
       "    </tr>\n",
       "    <tr>\n",
       "      <th>2</th>\n",
       "      <td>2017/1/3</td>\n",
       "      <td>307</td>\n",
       "    </tr>\n",
       "    <tr>\n",
       "      <th>3</th>\n",
       "      <td>2017/1/4</td>\n",
       "      <td>202</td>\n",
       "    </tr>\n",
       "    <tr>\n",
       "      <th>4</th>\n",
       "      <td>2017/1/5</td>\n",
       "      <td>290</td>\n",
       "    </tr>\n",
       "  </tbody>\n",
       "</table>\n",
       "</div>"
      ],
      "text/plain": [
       "       date  Total_number\n",
       "0  2017/1/1           206\n",
       "1  2017/1/2           239\n",
       "2  2017/1/3           307\n",
       "3  2017/1/4           202\n",
       "4  2017/1/5           290"
      ]
     },
     "execution_count": 52,
     "metadata": {},
     "output_type": "execute_result"
    }
   ],
   "source": [
    "reddit_number.head()"
   ]
  },
  {
   "cell_type": "code",
   "execution_count": 53,
   "id": "dressed-sight",
   "metadata": {},
   "outputs": [
    {
     "data": {
      "text/plain": [
       "(1461, 2)"
      ]
     },
     "execution_count": 53,
     "metadata": {},
     "output_type": "execute_result"
    }
   ],
   "source": [
    "bitcoin_number.shape"
   ]
  },
  {
   "cell_type": "code",
   "execution_count": 54,
   "id": "devoted-berry",
   "metadata": {},
   "outputs": [
    {
     "data": {
      "text/html": [
       "<div>\n",
       "<style scoped>\n",
       "    .dataframe tbody tr th:only-of-type {\n",
       "        vertical-align: middle;\n",
       "    }\n",
       "\n",
       "    .dataframe tbody tr th {\n",
       "        vertical-align: top;\n",
       "    }\n",
       "\n",
       "    .dataframe thead th {\n",
       "        text-align: right;\n",
       "    }\n",
       "</style>\n",
       "<table border=\"1\" class=\"dataframe\">\n",
       "  <thead>\n",
       "    <tr style=\"text-align: right;\">\n",
       "      <th></th>\n",
       "      <th>date</th>\n",
       "      <th>Total_number</th>\n",
       "    </tr>\n",
       "  </thead>\n",
       "  <tbody>\n",
       "    <tr>\n",
       "      <th>0</th>\n",
       "      <td>2017/1/1</td>\n",
       "      <td>50</td>\n",
       "    </tr>\n",
       "    <tr>\n",
       "      <th>1</th>\n",
       "      <td>2017/1/2</td>\n",
       "      <td>112</td>\n",
       "    </tr>\n",
       "    <tr>\n",
       "      <th>2</th>\n",
       "      <td>2017/1/3</td>\n",
       "      <td>183</td>\n",
       "    </tr>\n",
       "    <tr>\n",
       "      <th>3</th>\n",
       "      <td>2017/1/4</td>\n",
       "      <td>134</td>\n",
       "    </tr>\n",
       "    <tr>\n",
       "      <th>4</th>\n",
       "      <td>2017/1/5</td>\n",
       "      <td>118</td>\n",
       "    </tr>\n",
       "  </tbody>\n",
       "</table>\n",
       "</div>"
      ],
      "text/plain": [
       "       date  Total_number\n",
       "0  2017/1/1            50\n",
       "1  2017/1/2           112\n",
       "2  2017/1/3           183\n",
       "3  2017/1/4           134\n",
       "4  2017/1/5           118"
      ]
     },
     "execution_count": 54,
     "metadata": {},
     "output_type": "execute_result"
    }
   ],
   "source": [
    "bitcoin_number.head()"
   ]
  },
  {
   "cell_type": "code",
   "execution_count": 55,
   "id": "insured-dating",
   "metadata": {},
   "outputs": [],
   "source": [
    "total = pd.DataFrame()\n",
    "total = pd.concat([reddit_number, bitcoin_number])"
   ]
  },
  {
   "cell_type": "code",
   "execution_count": 56,
   "id": "welcome-broadway",
   "metadata": {},
   "outputs": [
    {
     "data": {
      "text/plain": [
       "(2932, 2)"
      ]
     },
     "execution_count": 56,
     "metadata": {},
     "output_type": "execute_result"
    }
   ],
   "source": [
    "total.shape"
   ]
  },
  {
   "cell_type": "code",
   "execution_count": 57,
   "id": "processed-warner",
   "metadata": {},
   "outputs": [
    {
     "data": {
      "text/html": [
       "<div>\n",
       "<style scoped>\n",
       "    .dataframe tbody tr th:only-of-type {\n",
       "        vertical-align: middle;\n",
       "    }\n",
       "\n",
       "    .dataframe tbody tr th {\n",
       "        vertical-align: top;\n",
       "    }\n",
       "\n",
       "    .dataframe thead th {\n",
       "        text-align: right;\n",
       "    }\n",
       "</style>\n",
       "<table border=\"1\" class=\"dataframe\">\n",
       "  <thead>\n",
       "    <tr style=\"text-align: right;\">\n",
       "      <th></th>\n",
       "      <th>date</th>\n",
       "      <th>Total_number</th>\n",
       "    </tr>\n",
       "  </thead>\n",
       "  <tbody>\n",
       "    <tr>\n",
       "      <th>0</th>\n",
       "      <td>2017/1/1</td>\n",
       "      <td>206</td>\n",
       "    </tr>\n",
       "    <tr>\n",
       "      <th>1</th>\n",
       "      <td>2017/1/2</td>\n",
       "      <td>239</td>\n",
       "    </tr>\n",
       "    <tr>\n",
       "      <th>2</th>\n",
       "      <td>2017/1/3</td>\n",
       "      <td>307</td>\n",
       "    </tr>\n",
       "    <tr>\n",
       "      <th>3</th>\n",
       "      <td>2017/1/4</td>\n",
       "      <td>202</td>\n",
       "    </tr>\n",
       "    <tr>\n",
       "      <th>4</th>\n",
       "      <td>2017/1/5</td>\n",
       "      <td>290</td>\n",
       "    </tr>\n",
       "  </tbody>\n",
       "</table>\n",
       "</div>"
      ],
      "text/plain": [
       "       date  Total_number\n",
       "0  2017/1/1           206\n",
       "1  2017/1/2           239\n",
       "2  2017/1/3           307\n",
       "3  2017/1/4           202\n",
       "4  2017/1/5           290"
      ]
     },
     "execution_count": 57,
     "metadata": {},
     "output_type": "execute_result"
    }
   ],
   "source": [
    "total.head()"
   ]
  },
  {
   "cell_type": "code",
   "execution_count": 58,
   "id": "attended-vietnam",
   "metadata": {},
   "outputs": [],
   "source": [
    "total = total.groupby(\"date\").sum()"
   ]
  },
  {
   "cell_type": "code",
   "execution_count": 59,
   "id": "deluxe-remove",
   "metadata": {},
   "outputs": [
    {
     "data": {
      "text/plain": [
       "(1487, 1)"
      ]
     },
     "execution_count": 59,
     "metadata": {},
     "output_type": "execute_result"
    }
   ],
   "source": [
    "total.shape"
   ]
  },
  {
   "cell_type": "code",
   "execution_count": 60,
   "id": "occupational-shower",
   "metadata": {},
   "outputs": [
    {
     "data": {
      "text/html": [
       "<div>\n",
       "<style scoped>\n",
       "    .dataframe tbody tr th:only-of-type {\n",
       "        vertical-align: middle;\n",
       "    }\n",
       "\n",
       "    .dataframe tbody tr th {\n",
       "        vertical-align: top;\n",
       "    }\n",
       "\n",
       "    .dataframe thead th {\n",
       "        text-align: right;\n",
       "    }\n",
       "</style>\n",
       "<table border=\"1\" class=\"dataframe\">\n",
       "  <thead>\n",
       "    <tr style=\"text-align: right;\">\n",
       "      <th></th>\n",
       "      <th>Total_number</th>\n",
       "    </tr>\n",
       "    <tr>\n",
       "      <th>date</th>\n",
       "      <th></th>\n",
       "    </tr>\n",
       "  </thead>\n",
       "  <tbody>\n",
       "    <tr>\n",
       "      <th>2017/1/1</th>\n",
       "      <td>256</td>\n",
       "    </tr>\n",
       "    <tr>\n",
       "      <th>2017/1/10</th>\n",
       "      <td>422</td>\n",
       "    </tr>\n",
       "    <tr>\n",
       "      <th>2017/1/11</th>\n",
       "      <td>449</td>\n",
       "    </tr>\n",
       "    <tr>\n",
       "      <th>2017/1/12</th>\n",
       "      <td>446</td>\n",
       "    </tr>\n",
       "    <tr>\n",
       "      <th>2017/1/13</th>\n",
       "      <td>370</td>\n",
       "    </tr>\n",
       "  </tbody>\n",
       "</table>\n",
       "</div>"
      ],
      "text/plain": [
       "           Total_number\n",
       "date                   \n",
       "2017/1/1            256\n",
       "2017/1/10           422\n",
       "2017/1/11           449\n",
       "2017/1/12           446\n",
       "2017/1/13           370"
      ]
     },
     "execution_count": 60,
     "metadata": {},
     "output_type": "execute_result"
    }
   ],
   "source": [
    "total.head()"
   ]
  },
  {
   "cell_type": "code",
   "execution_count": 61,
   "id": "expensive-brake",
   "metadata": {},
   "outputs": [],
   "source": [
    "total.to_csv(\"number\\\\total_comments_numbers.csv\")"
   ]
  },
  {
   "cell_type": "code",
   "execution_count": null,
   "id": "collective-teens",
   "metadata": {},
   "outputs": [],
   "source": [
    "# add reddit and bitcoinTalk score"
   ]
  },
  {
   "cell_type": "code",
   "execution_count": 62,
   "id": "electoral-waste",
   "metadata": {},
   "outputs": [],
   "source": [
    "reddit_score = pd.read_csv(\"sentiment\\\\reddit_sentimentscore_newformat.csv\", header=0)\n",
    "bitcoin_score = pd.read_csv(\"sentiment\\\\bitcoinTalk_sentimentscore.csv\", header=0)"
   ]
  },
  {
   "cell_type": "code",
   "execution_count": 63,
   "id": "asian-virus",
   "metadata": {},
   "outputs": [
    {
     "data": {
      "text/plain": [
       "(1471, 2)"
      ]
     },
     "execution_count": 63,
     "metadata": {},
     "output_type": "execute_result"
    }
   ],
   "source": [
    "reddit_score.shape"
   ]
  },
  {
   "cell_type": "code",
   "execution_count": 64,
   "id": "lasting-savings",
   "metadata": {},
   "outputs": [
    {
     "data": {
      "text/plain": [
       "(1461, 2)"
      ]
     },
     "execution_count": 64,
     "metadata": {},
     "output_type": "execute_result"
    }
   ],
   "source": [
    "bitcoin_score.shape"
   ]
  },
  {
   "cell_type": "code",
   "execution_count": 65,
   "id": "needed-commercial",
   "metadata": {},
   "outputs": [
    {
     "data": {
      "text/html": [
       "<div>\n",
       "<style scoped>\n",
       "    .dataframe tbody tr th:only-of-type {\n",
       "        vertical-align: middle;\n",
       "    }\n",
       "\n",
       "    .dataframe tbody tr th {\n",
       "        vertical-align: top;\n",
       "    }\n",
       "\n",
       "    .dataframe thead th {\n",
       "        text-align: right;\n",
       "    }\n",
       "</style>\n",
       "<table border=\"1\" class=\"dataframe\">\n",
       "  <thead>\n",
       "    <tr style=\"text-align: right;\">\n",
       "      <th></th>\n",
       "      <th>date</th>\n",
       "      <th>sentiment_score</th>\n",
       "    </tr>\n",
       "  </thead>\n",
       "  <tbody>\n",
       "    <tr>\n",
       "      <th>0</th>\n",
       "      <td>2017/1/1</td>\n",
       "      <td>0.370568</td>\n",
       "    </tr>\n",
       "    <tr>\n",
       "      <th>1</th>\n",
       "      <td>2017/1/2</td>\n",
       "      <td>0.257054</td>\n",
       "    </tr>\n",
       "    <tr>\n",
       "      <th>2</th>\n",
       "      <td>2017/1/3</td>\n",
       "      <td>0.421696</td>\n",
       "    </tr>\n",
       "    <tr>\n",
       "      <th>3</th>\n",
       "      <td>2017/1/4</td>\n",
       "      <td>0.123776</td>\n",
       "    </tr>\n",
       "    <tr>\n",
       "      <th>4</th>\n",
       "      <td>2017/1/5</td>\n",
       "      <td>0.038527</td>\n",
       "    </tr>\n",
       "  </tbody>\n",
       "</table>\n",
       "</div>"
      ],
      "text/plain": [
       "       date  sentiment_score\n",
       "0  2017/1/1         0.370568\n",
       "1  2017/1/2         0.257054\n",
       "2  2017/1/3         0.421696\n",
       "3  2017/1/4         0.123776\n",
       "4  2017/1/5         0.038527"
      ]
     },
     "execution_count": 65,
     "metadata": {},
     "output_type": "execute_result"
    }
   ],
   "source": [
    "reddit_score.head()"
   ]
  },
  {
   "cell_type": "code",
   "execution_count": 66,
   "id": "chief-kruger",
   "metadata": {},
   "outputs": [
    {
     "data": {
      "text/html": [
       "<div>\n",
       "<style scoped>\n",
       "    .dataframe tbody tr th:only-of-type {\n",
       "        vertical-align: middle;\n",
       "    }\n",
       "\n",
       "    .dataframe tbody tr th {\n",
       "        vertical-align: top;\n",
       "    }\n",
       "\n",
       "    .dataframe thead th {\n",
       "        text-align: right;\n",
       "    }\n",
       "</style>\n",
       "<table border=\"1\" class=\"dataframe\">\n",
       "  <thead>\n",
       "    <tr style=\"text-align: right;\">\n",
       "      <th></th>\n",
       "      <th>date</th>\n",
       "      <th>sentiment_score</th>\n",
       "    </tr>\n",
       "  </thead>\n",
       "  <tbody>\n",
       "    <tr>\n",
       "      <th>0</th>\n",
       "      <td>2017/1/1</td>\n",
       "      <td>0.514349</td>\n",
       "    </tr>\n",
       "    <tr>\n",
       "      <th>1</th>\n",
       "      <td>2017/1/10</td>\n",
       "      <td>0.516377</td>\n",
       "    </tr>\n",
       "    <tr>\n",
       "      <th>2</th>\n",
       "      <td>2017/1/11</td>\n",
       "      <td>0.571783</td>\n",
       "    </tr>\n",
       "    <tr>\n",
       "      <th>3</th>\n",
       "      <td>2017/1/12</td>\n",
       "      <td>0.745859</td>\n",
       "    </tr>\n",
       "    <tr>\n",
       "      <th>4</th>\n",
       "      <td>2017/1/13</td>\n",
       "      <td>0.454587</td>\n",
       "    </tr>\n",
       "  </tbody>\n",
       "</table>\n",
       "</div>"
      ],
      "text/plain": [
       "        date  sentiment_score\n",
       "0   2017/1/1         0.514349\n",
       "1  2017/1/10         0.516377\n",
       "2  2017/1/11         0.571783\n",
       "3  2017/1/12         0.745859\n",
       "4  2017/1/13         0.454587"
      ]
     },
     "execution_count": 66,
     "metadata": {},
     "output_type": "execute_result"
    }
   ],
   "source": [
    "bitcoin_score.head()"
   ]
  },
  {
   "cell_type": "code",
   "execution_count": 67,
   "id": "quarterly-acoustic",
   "metadata": {},
   "outputs": [],
   "source": [
    "total_score = pd.concat([bitcoin_score, reddit_score])"
   ]
  },
  {
   "cell_type": "code",
   "execution_count": 68,
   "id": "chinese-demand",
   "metadata": {},
   "outputs": [
    {
     "data": {
      "text/plain": [
       "(2932, 2)"
      ]
     },
     "execution_count": 68,
     "metadata": {},
     "output_type": "execute_result"
    }
   ],
   "source": [
    "total_score.shape"
   ]
  },
  {
   "cell_type": "code",
   "execution_count": 69,
   "id": "diagnostic-vault",
   "metadata": {},
   "outputs": [
    {
     "data": {
      "text/html": [
       "<div>\n",
       "<style scoped>\n",
       "    .dataframe tbody tr th:only-of-type {\n",
       "        vertical-align: middle;\n",
       "    }\n",
       "\n",
       "    .dataframe tbody tr th {\n",
       "        vertical-align: top;\n",
       "    }\n",
       "\n",
       "    .dataframe thead th {\n",
       "        text-align: right;\n",
       "    }\n",
       "</style>\n",
       "<table border=\"1\" class=\"dataframe\">\n",
       "  <thead>\n",
       "    <tr style=\"text-align: right;\">\n",
       "      <th></th>\n",
       "      <th>date</th>\n",
       "      <th>sentiment_score</th>\n",
       "    </tr>\n",
       "  </thead>\n",
       "  <tbody>\n",
       "    <tr>\n",
       "      <th>0</th>\n",
       "      <td>2017/1/1</td>\n",
       "      <td>0.514349</td>\n",
       "    </tr>\n",
       "    <tr>\n",
       "      <th>1</th>\n",
       "      <td>2017/1/10</td>\n",
       "      <td>0.516377</td>\n",
       "    </tr>\n",
       "    <tr>\n",
       "      <th>2</th>\n",
       "      <td>2017/1/11</td>\n",
       "      <td>0.571783</td>\n",
       "    </tr>\n",
       "    <tr>\n",
       "      <th>3</th>\n",
       "      <td>2017/1/12</td>\n",
       "      <td>0.745859</td>\n",
       "    </tr>\n",
       "    <tr>\n",
       "      <th>4</th>\n",
       "      <td>2017/1/13</td>\n",
       "      <td>0.454587</td>\n",
       "    </tr>\n",
       "  </tbody>\n",
       "</table>\n",
       "</div>"
      ],
      "text/plain": [
       "        date  sentiment_score\n",
       "0   2017/1/1         0.514349\n",
       "1  2017/1/10         0.516377\n",
       "2  2017/1/11         0.571783\n",
       "3  2017/1/12         0.745859\n",
       "4  2017/1/13         0.454587"
      ]
     },
     "execution_count": 69,
     "metadata": {},
     "output_type": "execute_result"
    }
   ],
   "source": [
    "total_score.head()"
   ]
  },
  {
   "cell_type": "code",
   "execution_count": 70,
   "id": "spiritual-colombia",
   "metadata": {},
   "outputs": [],
   "source": [
    "total_score = total_score.groupby(\"date\").sum()"
   ]
  },
  {
   "cell_type": "code",
   "execution_count": 71,
   "id": "decent-providence",
   "metadata": {},
   "outputs": [
    {
     "data": {
      "text/plain": [
       "(1487, 1)"
      ]
     },
     "execution_count": 71,
     "metadata": {},
     "output_type": "execute_result"
    }
   ],
   "source": [
    "total_score.shape"
   ]
  },
  {
   "cell_type": "code",
   "execution_count": 76,
   "id": "martial-antenna",
   "metadata": {},
   "outputs": [
    {
     "data": {
      "text/html": [
       "<div>\n",
       "<style scoped>\n",
       "    .dataframe tbody tr th:only-of-type {\n",
       "        vertical-align: middle;\n",
       "    }\n",
       "\n",
       "    .dataframe tbody tr th {\n",
       "        vertical-align: top;\n",
       "    }\n",
       "\n",
       "    .dataframe thead th {\n",
       "        text-align: right;\n",
       "    }\n",
       "</style>\n",
       "<table border=\"1\" class=\"dataframe\">\n",
       "  <thead>\n",
       "    <tr style=\"text-align: right;\">\n",
       "      <th></th>\n",
       "      <th>sentiment_score</th>\n",
       "    </tr>\n",
       "    <tr>\n",
       "      <th>date</th>\n",
       "      <th></th>\n",
       "    </tr>\n",
       "  </thead>\n",
       "  <tbody>\n",
       "    <tr>\n",
       "      <th>2017/1/1</th>\n",
       "      <td>0.884918</td>\n",
       "    </tr>\n",
       "    <tr>\n",
       "      <th>2017/1/10</th>\n",
       "      <td>0.892749</td>\n",
       "    </tr>\n",
       "    <tr>\n",
       "      <th>2017/1/11</th>\n",
       "      <td>0.683567</td>\n",
       "    </tr>\n",
       "    <tr>\n",
       "      <th>2017/1/12</th>\n",
       "      <td>0.830503</td>\n",
       "    </tr>\n",
       "    <tr>\n",
       "      <th>2017/1/13</th>\n",
       "      <td>0.475576</td>\n",
       "    </tr>\n",
       "  </tbody>\n",
       "</table>\n",
       "</div>"
      ],
      "text/plain": [
       "           sentiment_score\n",
       "date                      \n",
       "2017/1/1          0.884918\n",
       "2017/1/10         0.892749\n",
       "2017/1/11         0.683567\n",
       "2017/1/12         0.830503\n",
       "2017/1/13         0.475576"
      ]
     },
     "execution_count": 76,
     "metadata": {},
     "output_type": "execute_result"
    }
   ],
   "source": [
    "total_score.head()"
   ]
  },
  {
   "cell_type": "code",
   "execution_count": 75,
   "id": "fresh-trash",
   "metadata": {},
   "outputs": [],
   "source": [
    "total_score.to_csv(\"sentiment\\\\total_sentiment_score.csv\")"
   ]
  },
  {
   "cell_type": "code",
   "execution_count": 77,
   "id": "specified-swedish",
   "metadata": {},
   "outputs": [],
   "source": [
    "# get the closing price"
   ]
  },
  {
   "cell_type": "code",
   "execution_count": 78,
   "id": "another-advancement",
   "metadata": {},
   "outputs": [],
   "source": [
    "bitcoinPrice = pd.read_csv(\"..\\\\Input_to_Model2\\\\BTC-USD-2017-2020.csv\", header = 0, usecols = [0,4])"
   ]
  },
  {
   "cell_type": "code",
   "execution_count": 79,
   "id": "prepared-formation",
   "metadata": {},
   "outputs": [
    {
     "data": {
      "text/plain": [
       "(1462, 2)"
      ]
     },
     "execution_count": 79,
     "metadata": {},
     "output_type": "execute_result"
    }
   ],
   "source": [
    "bitcoinPrice.shape"
   ]
  },
  {
   "cell_type": "code",
   "execution_count": 80,
   "id": "decreased-floor",
   "metadata": {},
   "outputs": [
    {
     "data": {
      "text/html": [
       "<div>\n",
       "<style scoped>\n",
       "    .dataframe tbody tr th:only-of-type {\n",
       "        vertical-align: middle;\n",
       "    }\n",
       "\n",
       "    .dataframe tbody tr th {\n",
       "        vertical-align: top;\n",
       "    }\n",
       "\n",
       "    .dataframe thead th {\n",
       "        text-align: right;\n",
       "    }\n",
       "</style>\n",
       "<table border=\"1\" class=\"dataframe\">\n",
       "  <thead>\n",
       "    <tr style=\"text-align: right;\">\n",
       "      <th></th>\n",
       "      <th>Date</th>\n",
       "      <th>Close</th>\n",
       "    </tr>\n",
       "  </thead>\n",
       "  <tbody>\n",
       "    <tr>\n",
       "      <th>0</th>\n",
       "      <td>01/01/2017</td>\n",
       "      <td>998.325012</td>\n",
       "    </tr>\n",
       "    <tr>\n",
       "      <th>1</th>\n",
       "      <td>02/01/2017</td>\n",
       "      <td>1021.750000</td>\n",
       "    </tr>\n",
       "    <tr>\n",
       "      <th>2</th>\n",
       "      <td>03/01/2017</td>\n",
       "      <td>1043.839966</td>\n",
       "    </tr>\n",
       "    <tr>\n",
       "      <th>3</th>\n",
       "      <td>04/01/2017</td>\n",
       "      <td>1154.729980</td>\n",
       "    </tr>\n",
       "    <tr>\n",
       "      <th>4</th>\n",
       "      <td>05/01/2017</td>\n",
       "      <td>1013.380005</td>\n",
       "    </tr>\n",
       "  </tbody>\n",
       "</table>\n",
       "</div>"
      ],
      "text/plain": [
       "         Date        Close\n",
       "0  01/01/2017   998.325012\n",
       "1  02/01/2017  1021.750000\n",
       "2  03/01/2017  1043.839966\n",
       "3  04/01/2017  1154.729980\n",
       "4  05/01/2017  1013.380005"
      ]
     },
     "execution_count": 80,
     "metadata": {},
     "output_type": "execute_result"
    }
   ],
   "source": [
    "bitcoinPrice.head()"
   ]
  },
  {
   "cell_type": "code",
   "execution_count": 81,
   "id": "martial-length",
   "metadata": {},
   "outputs": [],
   "source": [
    "bitcoinPrice.Date = bitcoinPrice.Date.apply(updateDate)"
   ]
  },
  {
   "cell_type": "code",
   "execution_count": 82,
   "id": "dense-gazette",
   "metadata": {},
   "outputs": [
    {
     "data": {
      "text/html": [
       "<div>\n",
       "<style scoped>\n",
       "    .dataframe tbody tr th:only-of-type {\n",
       "        vertical-align: middle;\n",
       "    }\n",
       "\n",
       "    .dataframe tbody tr th {\n",
       "        vertical-align: top;\n",
       "    }\n",
       "\n",
       "    .dataframe thead th {\n",
       "        text-align: right;\n",
       "    }\n",
       "</style>\n",
       "<table border=\"1\" class=\"dataframe\">\n",
       "  <thead>\n",
       "    <tr style=\"text-align: right;\">\n",
       "      <th></th>\n",
       "      <th>Date</th>\n",
       "      <th>Close</th>\n",
       "    </tr>\n",
       "  </thead>\n",
       "  <tbody>\n",
       "    <tr>\n",
       "      <th>0</th>\n",
       "      <td>2017/01/01</td>\n",
       "      <td>998.325012</td>\n",
       "    </tr>\n",
       "    <tr>\n",
       "      <th>1</th>\n",
       "      <td>2017/01/02</td>\n",
       "      <td>1021.750000</td>\n",
       "    </tr>\n",
       "    <tr>\n",
       "      <th>2</th>\n",
       "      <td>2017/01/03</td>\n",
       "      <td>1043.839966</td>\n",
       "    </tr>\n",
       "    <tr>\n",
       "      <th>3</th>\n",
       "      <td>2017/01/04</td>\n",
       "      <td>1154.729980</td>\n",
       "    </tr>\n",
       "    <tr>\n",
       "      <th>4</th>\n",
       "      <td>2017/01/05</td>\n",
       "      <td>1013.380005</td>\n",
       "    </tr>\n",
       "  </tbody>\n",
       "</table>\n",
       "</div>"
      ],
      "text/plain": [
       "         Date        Close\n",
       "0  2017/01/01   998.325012\n",
       "1  2017/01/02  1021.750000\n",
       "2  2017/01/03  1043.839966\n",
       "3  2017/01/04  1154.729980\n",
       "4  2017/01/05  1013.380005"
      ]
     },
     "execution_count": 82,
     "metadata": {},
     "output_type": "execute_result"
    }
   ],
   "source": [
    "bitcoinPrice.head()"
   ]
  },
  {
   "cell_type": "code",
   "execution_count": 84,
   "id": "organized-treasure",
   "metadata": {},
   "outputs": [],
   "source": [
    "bitcoinPrice.to_csv(\"price\\\\closingPrice.csv\", index=False)"
   ]
  },
  {
   "cell_type": "code",
   "execution_count": 91,
   "id": "neither-writing",
   "metadata": {},
   "outputs": [
    {
     "name": "stdout",
     "output_type": "stream",
     "text": [
      "Collecting xlrd\n",
      "  Downloading xlrd-2.0.1-py2.py3-none-any.whl (96 kB)\n",
      "Installing collected packages: xlrd\n",
      "Successfully installed xlrd-2.0.1\n"
     ]
    }
   ],
   "source": [
    "!pip install xlrd"
   ]
  },
  {
   "cell_type": "code",
   "execution_count": 122,
   "id": "administrative-dietary",
   "metadata": {},
   "outputs": [],
   "source": [
    "trends = pd.read_excel(\"..\\\\Input_to_Model2\\\\Aggregation.xls\", header = 0)"
   ]
  },
  {
   "cell_type": "code",
   "execution_count": 123,
   "id": "loving-vancouver",
   "metadata": {},
   "outputs": [
    {
     "data": {
      "text/plain": [
       "(1462, 2)"
      ]
     },
     "execution_count": 123,
     "metadata": {},
     "output_type": "execute_result"
    }
   ],
   "source": [
    "trends.shape"
   ]
  },
  {
   "cell_type": "code",
   "execution_count": 124,
   "id": "guided-wagner",
   "metadata": {},
   "outputs": [
    {
     "data": {
      "text/html": [
       "<div>\n",
       "<style scoped>\n",
       "    .dataframe tbody tr th:only-of-type {\n",
       "        vertical-align: middle;\n",
       "    }\n",
       "\n",
       "    .dataframe tbody tr th {\n",
       "        vertical-align: top;\n",
       "    }\n",
       "\n",
       "    .dataframe thead th {\n",
       "        text-align: right;\n",
       "    }\n",
       "</style>\n",
       "<table border=\"1\" class=\"dataframe\">\n",
       "  <thead>\n",
       "    <tr style=\"text-align: right;\">\n",
       "      <th></th>\n",
       "      <th>Date</th>\n",
       "      <th>Trends</th>\n",
       "    </tr>\n",
       "  </thead>\n",
       "  <tbody>\n",
       "    <tr>\n",
       "      <th>0</th>\n",
       "      <td>2017-01-01</td>\n",
       "      <td>14.0</td>\n",
       "    </tr>\n",
       "    <tr>\n",
       "      <th>1</th>\n",
       "      <td>2017-01-02</td>\n",
       "      <td>27.0</td>\n",
       "    </tr>\n",
       "    <tr>\n",
       "      <th>2</th>\n",
       "      <td>2017-01-03</td>\n",
       "      <td>24.0</td>\n",
       "    </tr>\n",
       "    <tr>\n",
       "      <th>3</th>\n",
       "      <td>2017-01-04</td>\n",
       "      <td>26.0</td>\n",
       "    </tr>\n",
       "    <tr>\n",
       "      <th>4</th>\n",
       "      <td>2017-01-05</td>\n",
       "      <td>32.0</td>\n",
       "    </tr>\n",
       "  </tbody>\n",
       "</table>\n",
       "</div>"
      ],
      "text/plain": [
       "        Date  Trends\n",
       "0 2017-01-01    14.0\n",
       "1 2017-01-02    27.0\n",
       "2 2017-01-03    24.0\n",
       "3 2017-01-04    26.0\n",
       "4 2017-01-05    32.0"
      ]
     },
     "execution_count": 124,
     "metadata": {},
     "output_type": "execute_result"
    }
   ],
   "source": [
    "trends.head()"
   ]
  },
  {
   "cell_type": "code",
   "execution_count": 125,
   "id": "inappropriate-muscle",
   "metadata": {},
   "outputs": [],
   "source": [
    "def updateDateT(d):\n",
    "    #print(type(d))\n",
    "    return d.date().strftime('%Y/%#m/%#d')"
   ]
  },
  {
   "cell_type": "code",
   "execution_count": 126,
   "id": "planned-burst",
   "metadata": {},
   "outputs": [
    {
     "data": {
      "text/plain": [
       "Date      datetime64[ns]\n",
       "Trends           float64\n",
       "dtype: object"
      ]
     },
     "execution_count": 126,
     "metadata": {},
     "output_type": "execute_result"
    }
   ],
   "source": [
    "trends.dtypes"
   ]
  },
  {
   "cell_type": "code",
   "execution_count": 127,
   "id": "difficult-nursery",
   "metadata": {},
   "outputs": [
    {
     "data": {
      "text/plain": [
       "0    14.0\n",
       "Name: Trends, dtype: float64"
      ]
     },
     "execution_count": 127,
     "metadata": {},
     "output_type": "execute_result"
    }
   ],
   "source": [
    "trends[trends[\"Date\"]==\"2017-01-01\"][\"Trends\"]"
   ]
  },
  {
   "cell_type": "code",
   "execution_count": 128,
   "id": "innovative-witness",
   "metadata": {},
   "outputs": [],
   "source": [
    "trends.Date = trends.Date.apply(updateDateT)"
   ]
  },
  {
   "cell_type": "code",
   "execution_count": 129,
   "id": "dated-intranet",
   "metadata": {},
   "outputs": [
    {
     "data": {
      "text/html": [
       "<div>\n",
       "<style scoped>\n",
       "    .dataframe tbody tr th:only-of-type {\n",
       "        vertical-align: middle;\n",
       "    }\n",
       "\n",
       "    .dataframe tbody tr th {\n",
       "        vertical-align: top;\n",
       "    }\n",
       "\n",
       "    .dataframe thead th {\n",
       "        text-align: right;\n",
       "    }\n",
       "</style>\n",
       "<table border=\"1\" class=\"dataframe\">\n",
       "  <thead>\n",
       "    <tr style=\"text-align: right;\">\n",
       "      <th></th>\n",
       "      <th>Date</th>\n",
       "      <th>Trends</th>\n",
       "    </tr>\n",
       "  </thead>\n",
       "  <tbody>\n",
       "    <tr>\n",
       "      <th>0</th>\n",
       "      <td>2017/1/1</td>\n",
       "      <td>14.0</td>\n",
       "    </tr>\n",
       "    <tr>\n",
       "      <th>1</th>\n",
       "      <td>2017/1/2</td>\n",
       "      <td>27.0</td>\n",
       "    </tr>\n",
       "    <tr>\n",
       "      <th>2</th>\n",
       "      <td>2017/1/3</td>\n",
       "      <td>24.0</td>\n",
       "    </tr>\n",
       "    <tr>\n",
       "      <th>3</th>\n",
       "      <td>2017/1/4</td>\n",
       "      <td>26.0</td>\n",
       "    </tr>\n",
       "    <tr>\n",
       "      <th>4</th>\n",
       "      <td>2017/1/5</td>\n",
       "      <td>32.0</td>\n",
       "    </tr>\n",
       "  </tbody>\n",
       "</table>\n",
       "</div>"
      ],
      "text/plain": [
       "       Date  Trends\n",
       "0  2017/1/1    14.0\n",
       "1  2017/1/2    27.0\n",
       "2  2017/1/3    24.0\n",
       "3  2017/1/4    26.0\n",
       "4  2017/1/5    32.0"
      ]
     },
     "execution_count": 129,
     "metadata": {},
     "output_type": "execute_result"
    }
   ],
   "source": [
    "trends.head()"
   ]
  },
  {
   "cell_type": "code",
   "execution_count": 130,
   "id": "pointed-kennedy",
   "metadata": {},
   "outputs": [],
   "source": [
    "bitcoinPrice = pd.read_csv(\"price\\\\closingPrice.csv\", header=0)"
   ]
  },
  {
   "cell_type": "code",
   "execution_count": 131,
   "id": "color-gabriel",
   "metadata": {},
   "outputs": [
    {
     "data": {
      "text/html": [
       "<div>\n",
       "<style scoped>\n",
       "    .dataframe tbody tr th:only-of-type {\n",
       "        vertical-align: middle;\n",
       "    }\n",
       "\n",
       "    .dataframe tbody tr th {\n",
       "        vertical-align: top;\n",
       "    }\n",
       "\n",
       "    .dataframe thead th {\n",
       "        text-align: right;\n",
       "    }\n",
       "</style>\n",
       "<table border=\"1\" class=\"dataframe\">\n",
       "  <thead>\n",
       "    <tr style=\"text-align: right;\">\n",
       "      <th></th>\n",
       "      <th>Date</th>\n",
       "      <th>Close</th>\n",
       "    </tr>\n",
       "  </thead>\n",
       "  <tbody>\n",
       "    <tr>\n",
       "      <th>0</th>\n",
       "      <td>2017/01/01</td>\n",
       "      <td>998.325012</td>\n",
       "    </tr>\n",
       "    <tr>\n",
       "      <th>1</th>\n",
       "      <td>2017/01/02</td>\n",
       "      <td>1021.750000</td>\n",
       "    </tr>\n",
       "    <tr>\n",
       "      <th>2</th>\n",
       "      <td>2017/01/03</td>\n",
       "      <td>1043.839966</td>\n",
       "    </tr>\n",
       "    <tr>\n",
       "      <th>3</th>\n",
       "      <td>2017/01/04</td>\n",
       "      <td>1154.729980</td>\n",
       "    </tr>\n",
       "    <tr>\n",
       "      <th>4</th>\n",
       "      <td>2017/01/05</td>\n",
       "      <td>1013.380005</td>\n",
       "    </tr>\n",
       "  </tbody>\n",
       "</table>\n",
       "</div>"
      ],
      "text/plain": [
       "         Date        Close\n",
       "0  2017/01/01   998.325012\n",
       "1  2017/01/02  1021.750000\n",
       "2  2017/01/03  1043.839966\n",
       "3  2017/01/04  1154.729980\n",
       "4  2017/01/05  1013.380005"
      ]
     },
     "execution_count": 131,
     "metadata": {},
     "output_type": "execute_result"
    }
   ],
   "source": [
    "bitcoinPrice.head()"
   ]
  },
  {
   "cell_type": "code",
   "execution_count": 136,
   "id": "further-guest",
   "metadata": {},
   "outputs": [],
   "source": [
    "def updateDateZ(d):\n",
    "    #print(type(d))\n",
    "    return datetime.strptime(d,'%Y/%m/%d').strftime('%Y/%#m/%#d')"
   ]
  },
  {
   "cell_type": "code",
   "execution_count": 137,
   "id": "industrial-judges",
   "metadata": {},
   "outputs": [],
   "source": [
    "bitcoinPrice.Date = bitcoinPrice.Date.apply(updateDateZ)"
   ]
  },
  {
   "cell_type": "code",
   "execution_count": 138,
   "id": "timely-iraqi",
   "metadata": {},
   "outputs": [
    {
     "data": {
      "text/html": [
       "<div>\n",
       "<style scoped>\n",
       "    .dataframe tbody tr th:only-of-type {\n",
       "        vertical-align: middle;\n",
       "    }\n",
       "\n",
       "    .dataframe tbody tr th {\n",
       "        vertical-align: top;\n",
       "    }\n",
       "\n",
       "    .dataframe thead th {\n",
       "        text-align: right;\n",
       "    }\n",
       "</style>\n",
       "<table border=\"1\" class=\"dataframe\">\n",
       "  <thead>\n",
       "    <tr style=\"text-align: right;\">\n",
       "      <th></th>\n",
       "      <th>Date</th>\n",
       "      <th>Close</th>\n",
       "    </tr>\n",
       "  </thead>\n",
       "  <tbody>\n",
       "    <tr>\n",
       "      <th>0</th>\n",
       "      <td>2017/1/1</td>\n",
       "      <td>998.325012</td>\n",
       "    </tr>\n",
       "    <tr>\n",
       "      <th>1</th>\n",
       "      <td>2017/1/2</td>\n",
       "      <td>1021.750000</td>\n",
       "    </tr>\n",
       "    <tr>\n",
       "      <th>2</th>\n",
       "      <td>2017/1/3</td>\n",
       "      <td>1043.839966</td>\n",
       "    </tr>\n",
       "    <tr>\n",
       "      <th>3</th>\n",
       "      <td>2017/1/4</td>\n",
       "      <td>1154.729980</td>\n",
       "    </tr>\n",
       "    <tr>\n",
       "      <th>4</th>\n",
       "      <td>2017/1/5</td>\n",
       "      <td>1013.380005</td>\n",
       "    </tr>\n",
       "  </tbody>\n",
       "</table>\n",
       "</div>"
      ],
      "text/plain": [
       "       Date        Close\n",
       "0  2017/1/1   998.325012\n",
       "1  2017/1/2  1021.750000\n",
       "2  2017/1/3  1043.839966\n",
       "3  2017/1/4  1154.729980\n",
       "4  2017/1/5  1013.380005"
      ]
     },
     "execution_count": 138,
     "metadata": {},
     "output_type": "execute_result"
    }
   ],
   "source": [
    "bitcoinPrice.head()"
   ]
  },
  {
   "cell_type": "code",
   "execution_count": 139,
   "id": "short-pantyhose",
   "metadata": {},
   "outputs": [],
   "source": [
    "test= bitcoinPrice"
   ]
  },
  {
   "cell_type": "code",
   "execution_count": 141,
   "id": "finished-battlefield",
   "metadata": {},
   "outputs": [],
   "source": [
    "total_data = test.join(trends.set_index(\"Date\"), on=\"Date\")"
   ]
  },
  {
   "cell_type": "code",
   "execution_count": 142,
   "id": "choice-christmas",
   "metadata": {},
   "outputs": [],
   "source": [
    "scores = pd.read_csv(\"..\\\\Input_to_Model2\\\\total_sentiment_score.csv\", header = 0)"
   ]
  },
  {
   "cell_type": "code",
   "execution_count": 143,
   "id": "challenging-person",
   "metadata": {},
   "outputs": [
    {
     "data": {
      "text/html": [
       "<div>\n",
       "<style scoped>\n",
       "    .dataframe tbody tr th:only-of-type {\n",
       "        vertical-align: middle;\n",
       "    }\n",
       "\n",
       "    .dataframe tbody tr th {\n",
       "        vertical-align: top;\n",
       "    }\n",
       "\n",
       "    .dataframe thead th {\n",
       "        text-align: right;\n",
       "    }\n",
       "</style>\n",
       "<table border=\"1\" class=\"dataframe\">\n",
       "  <thead>\n",
       "    <tr style=\"text-align: right;\">\n",
       "      <th></th>\n",
       "      <th>date</th>\n",
       "      <th>sentiment_score</th>\n",
       "    </tr>\n",
       "  </thead>\n",
       "  <tbody>\n",
       "    <tr>\n",
       "      <th>0</th>\n",
       "      <td>2017/1/1</td>\n",
       "      <td>0.884918</td>\n",
       "    </tr>\n",
       "    <tr>\n",
       "      <th>1</th>\n",
       "      <td>2017/1/2</td>\n",
       "      <td>1.018706</td>\n",
       "    </tr>\n",
       "    <tr>\n",
       "      <th>2</th>\n",
       "      <td>2017/1/3</td>\n",
       "      <td>0.900894</td>\n",
       "    </tr>\n",
       "    <tr>\n",
       "      <th>3</th>\n",
       "      <td>2017/1/4</td>\n",
       "      <td>0.863922</td>\n",
       "    </tr>\n",
       "    <tr>\n",
       "      <th>4</th>\n",
       "      <td>2017/1/5</td>\n",
       "      <td>0.254463</td>\n",
       "    </tr>\n",
       "  </tbody>\n",
       "</table>\n",
       "</div>"
      ],
      "text/plain": [
       "       date  sentiment_score\n",
       "0  2017/1/1         0.884918\n",
       "1  2017/1/2         1.018706\n",
       "2  2017/1/3         0.900894\n",
       "3  2017/1/4         0.863922\n",
       "4  2017/1/5         0.254463"
      ]
     },
     "execution_count": 143,
     "metadata": {},
     "output_type": "execute_result"
    }
   ],
   "source": [
    "scores.head()"
   ]
  },
  {
   "cell_type": "code",
   "execution_count": 144,
   "id": "australian-debate",
   "metadata": {},
   "outputs": [],
   "source": [
    "scores.rename(columns={\"date\": \"Date\", \"sentiment_score\": \"Score\"}, errors=\"raise\",inplace=True)"
   ]
  },
  {
   "cell_type": "code",
   "execution_count": 145,
   "id": "unlimited-spending",
   "metadata": {},
   "outputs": [
    {
     "data": {
      "text/html": [
       "<div>\n",
       "<style scoped>\n",
       "    .dataframe tbody tr th:only-of-type {\n",
       "        vertical-align: middle;\n",
       "    }\n",
       "\n",
       "    .dataframe tbody tr th {\n",
       "        vertical-align: top;\n",
       "    }\n",
       "\n",
       "    .dataframe thead th {\n",
       "        text-align: right;\n",
       "    }\n",
       "</style>\n",
       "<table border=\"1\" class=\"dataframe\">\n",
       "  <thead>\n",
       "    <tr style=\"text-align: right;\">\n",
       "      <th></th>\n",
       "      <th>Date</th>\n",
       "      <th>Score</th>\n",
       "    </tr>\n",
       "  </thead>\n",
       "  <tbody>\n",
       "    <tr>\n",
       "      <th>0</th>\n",
       "      <td>2017/1/1</td>\n",
       "      <td>0.884918</td>\n",
       "    </tr>\n",
       "    <tr>\n",
       "      <th>1</th>\n",
       "      <td>2017/1/2</td>\n",
       "      <td>1.018706</td>\n",
       "    </tr>\n",
       "    <tr>\n",
       "      <th>2</th>\n",
       "      <td>2017/1/3</td>\n",
       "      <td>0.900894</td>\n",
       "    </tr>\n",
       "    <tr>\n",
       "      <th>3</th>\n",
       "      <td>2017/1/4</td>\n",
       "      <td>0.863922</td>\n",
       "    </tr>\n",
       "    <tr>\n",
       "      <th>4</th>\n",
       "      <td>2017/1/5</td>\n",
       "      <td>0.254463</td>\n",
       "    </tr>\n",
       "  </tbody>\n",
       "</table>\n",
       "</div>"
      ],
      "text/plain": [
       "       Date     Score\n",
       "0  2017/1/1  0.884918\n",
       "1  2017/1/2  1.018706\n",
       "2  2017/1/3  0.900894\n",
       "3  2017/1/4  0.863922\n",
       "4  2017/1/5  0.254463"
      ]
     },
     "execution_count": 145,
     "metadata": {},
     "output_type": "execute_result"
    }
   ],
   "source": [
    "scores.head()"
   ]
  },
  {
   "cell_type": "code",
   "execution_count": 149,
   "id": "advisory-point",
   "metadata": {},
   "outputs": [
    {
     "data": {
      "text/plain": [
       "(1487, 2)"
      ]
     },
     "execution_count": 149,
     "metadata": {},
     "output_type": "execute_result"
    }
   ],
   "source": [
    "scores.shape"
   ]
  },
  {
   "cell_type": "code",
   "execution_count": 146,
   "id": "attempted-timeline",
   "metadata": {},
   "outputs": [],
   "source": [
    "total_data = total_data.join(scores.set_index(\"Date\"), on=\"Date\")"
   ]
  },
  {
   "cell_type": "code",
   "execution_count": 150,
   "id": "specified-border",
   "metadata": {},
   "outputs": [
    {
     "data": {
      "text/html": [
       "<div>\n",
       "<style scoped>\n",
       "    .dataframe tbody tr th:only-of-type {\n",
       "        vertical-align: middle;\n",
       "    }\n",
       "\n",
       "    .dataframe tbody tr th {\n",
       "        vertical-align: top;\n",
       "    }\n",
       "\n",
       "    .dataframe thead th {\n",
       "        text-align: right;\n",
       "    }\n",
       "</style>\n",
       "<table border=\"1\" class=\"dataframe\">\n",
       "  <thead>\n",
       "    <tr style=\"text-align: right;\">\n",
       "      <th></th>\n",
       "      <th>Date</th>\n",
       "      <th>Close</th>\n",
       "      <th>Trends</th>\n",
       "      <th>Score</th>\n",
       "    </tr>\n",
       "  </thead>\n",
       "  <tbody>\n",
       "    <tr>\n",
       "      <th>1457</th>\n",
       "      <td>2020/12/28</td>\n",
       "      <td>27084.80859</td>\n",
       "      <td>162.920875</td>\n",
       "      <td>0.868294</td>\n",
       "    </tr>\n",
       "    <tr>\n",
       "      <th>1458</th>\n",
       "      <td>2020/12/29</td>\n",
       "      <td>27362.43750</td>\n",
       "      <td>136.111111</td>\n",
       "      <td>0.765014</td>\n",
       "    </tr>\n",
       "    <tr>\n",
       "      <th>1459</th>\n",
       "      <td>2020/12/30</td>\n",
       "      <td>28840.95313</td>\n",
       "      <td>156.734007</td>\n",
       "      <td>0.826808</td>\n",
       "    </tr>\n",
       "    <tr>\n",
       "      <th>1460</th>\n",
       "      <td>2020/12/31</td>\n",
       "      <td>29001.72070</td>\n",
       "      <td>152.609428</td>\n",
       "      <td>0.902876</td>\n",
       "    </tr>\n",
       "    <tr>\n",
       "      <th>1461</th>\n",
       "      <td>2021/1/1</td>\n",
       "      <td>29374.15234</td>\n",
       "      <td>152.609428</td>\n",
       "      <td>0.321024</td>\n",
       "    </tr>\n",
       "  </tbody>\n",
       "</table>\n",
       "</div>"
      ],
      "text/plain": [
       "            Date        Close      Trends     Score\n",
       "1457  2020/12/28  27084.80859  162.920875  0.868294\n",
       "1458  2020/12/29  27362.43750  136.111111  0.765014\n",
       "1459  2020/12/30  28840.95313  156.734007  0.826808\n",
       "1460  2020/12/31  29001.72070  152.609428  0.902876\n",
       "1461    2021/1/1  29374.15234  152.609428  0.321024"
      ]
     },
     "execution_count": 150,
     "metadata": {},
     "output_type": "execute_result"
    }
   ],
   "source": [
    "total_data.tail()"
   ]
  },
  {
   "cell_type": "code",
   "execution_count": 148,
   "id": "dated-startup",
   "metadata": {},
   "outputs": [
    {
     "data": {
      "text/plain": [
       "(1462, 4)"
      ]
     },
     "execution_count": 148,
     "metadata": {},
     "output_type": "execute_result"
    }
   ],
   "source": [
    "total_data.shape"
   ]
  },
  {
   "cell_type": "code",
   "execution_count": 151,
   "id": "standing-pollution",
   "metadata": {},
   "outputs": [],
   "source": [
    "counts = pd.read_csv(\"..\\\\Input_to_Model2\\\\total_comments_numbers.csv\", header = 0)"
   ]
  },
  {
   "cell_type": "code",
   "execution_count": 152,
   "id": "distinguished-behalf",
   "metadata": {},
   "outputs": [
    {
     "data": {
      "text/plain": [
       "(1487, 2)"
      ]
     },
     "execution_count": 152,
     "metadata": {},
     "output_type": "execute_result"
    }
   ],
   "source": [
    "counts.shape"
   ]
  },
  {
   "cell_type": "code",
   "execution_count": 153,
   "id": "apart-missouri",
   "metadata": {},
   "outputs": [
    {
     "data": {
      "text/html": [
       "<div>\n",
       "<style scoped>\n",
       "    .dataframe tbody tr th:only-of-type {\n",
       "        vertical-align: middle;\n",
       "    }\n",
       "\n",
       "    .dataframe tbody tr th {\n",
       "        vertical-align: top;\n",
       "    }\n",
       "\n",
       "    .dataframe thead th {\n",
       "        text-align: right;\n",
       "    }\n",
       "</style>\n",
       "<table border=\"1\" class=\"dataframe\">\n",
       "  <thead>\n",
       "    <tr style=\"text-align: right;\">\n",
       "      <th></th>\n",
       "      <th>date</th>\n",
       "      <th>Total_number</th>\n",
       "    </tr>\n",
       "  </thead>\n",
       "  <tbody>\n",
       "    <tr>\n",
       "      <th>0</th>\n",
       "      <td>2017/1/1</td>\n",
       "      <td>256</td>\n",
       "    </tr>\n",
       "    <tr>\n",
       "      <th>1</th>\n",
       "      <td>2017/1/2</td>\n",
       "      <td>351</td>\n",
       "    </tr>\n",
       "    <tr>\n",
       "      <th>2</th>\n",
       "      <td>2017/1/3</td>\n",
       "      <td>490</td>\n",
       "    </tr>\n",
       "    <tr>\n",
       "      <th>3</th>\n",
       "      <td>2017/1/4</td>\n",
       "      <td>336</td>\n",
       "    </tr>\n",
       "    <tr>\n",
       "      <th>4</th>\n",
       "      <td>2017/1/5</td>\n",
       "      <td>408</td>\n",
       "    </tr>\n",
       "  </tbody>\n",
       "</table>\n",
       "</div>"
      ],
      "text/plain": [
       "       date  Total_number\n",
       "0  2017/1/1           256\n",
       "1  2017/1/2           351\n",
       "2  2017/1/3           490\n",
       "3  2017/1/4           336\n",
       "4  2017/1/5           408"
      ]
     },
     "execution_count": 153,
     "metadata": {},
     "output_type": "execute_result"
    }
   ],
   "source": [
    "counts.head()"
   ]
  },
  {
   "cell_type": "code",
   "execution_count": 156,
   "id": "russian-tonight",
   "metadata": {},
   "outputs": [],
   "source": [
    "counts.rename(columns = {\"date\":\"Date\", \"Total_number\": \"Number\"}, errors = \"raise\", inplace = True)"
   ]
  },
  {
   "cell_type": "code",
   "execution_count": 157,
   "id": "painful-relationship",
   "metadata": {},
   "outputs": [
    {
     "data": {
      "text/html": [
       "<div>\n",
       "<style scoped>\n",
       "    .dataframe tbody tr th:only-of-type {\n",
       "        vertical-align: middle;\n",
       "    }\n",
       "\n",
       "    .dataframe tbody tr th {\n",
       "        vertical-align: top;\n",
       "    }\n",
       "\n",
       "    .dataframe thead th {\n",
       "        text-align: right;\n",
       "    }\n",
       "</style>\n",
       "<table border=\"1\" class=\"dataframe\">\n",
       "  <thead>\n",
       "    <tr style=\"text-align: right;\">\n",
       "      <th></th>\n",
       "      <th>Date</th>\n",
       "      <th>Number</th>\n",
       "    </tr>\n",
       "  </thead>\n",
       "  <tbody>\n",
       "    <tr>\n",
       "      <th>0</th>\n",
       "      <td>2017/1/1</td>\n",
       "      <td>256</td>\n",
       "    </tr>\n",
       "    <tr>\n",
       "      <th>1</th>\n",
       "      <td>2017/1/2</td>\n",
       "      <td>351</td>\n",
       "    </tr>\n",
       "    <tr>\n",
       "      <th>2</th>\n",
       "      <td>2017/1/3</td>\n",
       "      <td>490</td>\n",
       "    </tr>\n",
       "    <tr>\n",
       "      <th>3</th>\n",
       "      <td>2017/1/4</td>\n",
       "      <td>336</td>\n",
       "    </tr>\n",
       "    <tr>\n",
       "      <th>4</th>\n",
       "      <td>2017/1/5</td>\n",
       "      <td>408</td>\n",
       "    </tr>\n",
       "  </tbody>\n",
       "</table>\n",
       "</div>"
      ],
      "text/plain": [
       "       Date  Number\n",
       "0  2017/1/1     256\n",
       "1  2017/1/2     351\n",
       "2  2017/1/3     490\n",
       "3  2017/1/4     336\n",
       "4  2017/1/5     408"
      ]
     },
     "execution_count": 157,
     "metadata": {},
     "output_type": "execute_result"
    }
   ],
   "source": [
    "counts.head()"
   ]
  },
  {
   "cell_type": "code",
   "execution_count": 159,
   "id": "durable-heart",
   "metadata": {},
   "outputs": [],
   "source": [
    "total_data = total_data.join(counts.set_index(\"Date\"),on = \"Date\")"
   ]
  },
  {
   "cell_type": "code",
   "execution_count": 160,
   "id": "cardiac-graphics",
   "metadata": {},
   "outputs": [
    {
     "data": {
      "text/html": [
       "<div>\n",
       "<style scoped>\n",
       "    .dataframe tbody tr th:only-of-type {\n",
       "        vertical-align: middle;\n",
       "    }\n",
       "\n",
       "    .dataframe tbody tr th {\n",
       "        vertical-align: top;\n",
       "    }\n",
       "\n",
       "    .dataframe thead th {\n",
       "        text-align: right;\n",
       "    }\n",
       "</style>\n",
       "<table border=\"1\" class=\"dataframe\">\n",
       "  <thead>\n",
       "    <tr style=\"text-align: right;\">\n",
       "      <th></th>\n",
       "      <th>Date</th>\n",
       "      <th>Close</th>\n",
       "      <th>Trends</th>\n",
       "      <th>Score</th>\n",
       "      <th>Number</th>\n",
       "    </tr>\n",
       "  </thead>\n",
       "  <tbody>\n",
       "    <tr>\n",
       "      <th>0</th>\n",
       "      <td>2017/1/1</td>\n",
       "      <td>998.325012</td>\n",
       "      <td>14.0</td>\n",
       "      <td>0.884918</td>\n",
       "      <td>256</td>\n",
       "    </tr>\n",
       "    <tr>\n",
       "      <th>1</th>\n",
       "      <td>2017/1/2</td>\n",
       "      <td>1021.750000</td>\n",
       "      <td>27.0</td>\n",
       "      <td>1.018706</td>\n",
       "      <td>351</td>\n",
       "    </tr>\n",
       "    <tr>\n",
       "      <th>2</th>\n",
       "      <td>2017/1/3</td>\n",
       "      <td>1043.839966</td>\n",
       "      <td>24.0</td>\n",
       "      <td>0.900894</td>\n",
       "      <td>490</td>\n",
       "    </tr>\n",
       "    <tr>\n",
       "      <th>3</th>\n",
       "      <td>2017/1/4</td>\n",
       "      <td>1154.729980</td>\n",
       "      <td>26.0</td>\n",
       "      <td>0.863922</td>\n",
       "      <td>336</td>\n",
       "    </tr>\n",
       "    <tr>\n",
       "      <th>4</th>\n",
       "      <td>2017/1/5</td>\n",
       "      <td>1013.380005</td>\n",
       "      <td>32.0</td>\n",
       "      <td>0.254463</td>\n",
       "      <td>408</td>\n",
       "    </tr>\n",
       "  </tbody>\n",
       "</table>\n",
       "</div>"
      ],
      "text/plain": [
       "       Date        Close  Trends     Score  Number\n",
       "0  2017/1/1   998.325012    14.0  0.884918     256\n",
       "1  2017/1/2  1021.750000    27.0  1.018706     351\n",
       "2  2017/1/3  1043.839966    24.0  0.900894     490\n",
       "3  2017/1/4  1154.729980    26.0  0.863922     336\n",
       "4  2017/1/5  1013.380005    32.0  0.254463     408"
      ]
     },
     "execution_count": 160,
     "metadata": {},
     "output_type": "execute_result"
    }
   ],
   "source": [
    "total_data.head()"
   ]
  },
  {
   "cell_type": "code",
   "execution_count": 161,
   "id": "worldwide-macro",
   "metadata": {},
   "outputs": [
    {
     "data": {
      "text/plain": [
       "(1462, 5)"
      ]
     },
     "execution_count": 161,
     "metadata": {},
     "output_type": "execute_result"
    }
   ],
   "source": [
    "total_data.shape"
   ]
  },
  {
   "cell_type": "code",
   "execution_count": null,
   "id": "august-tiger",
   "metadata": {},
   "outputs": [],
   "source": [
    "# save the total data"
   ]
  },
  {
   "cell_type": "code",
   "execution_count": 162,
   "id": "vertical-senior",
   "metadata": {},
   "outputs": [],
   "source": [
    "total_data.to_csv(\"..\\\\Model2\\\\totalData.csv\", index = False)"
   ]
  },
  {
   "cell_type": "code",
   "execution_count": null,
   "id": "atmospheric-tractor",
   "metadata": {},
   "outputs": [],
   "source": []
  }
 ],
 "metadata": {
  "kernelspec": {
   "display_name": "Python 3",
   "language": "python",
   "name": "python3"
  },
  "language_info": {
   "codemirror_mode": {
    "name": "ipython",
    "version": 3
   },
   "file_extension": ".py",
   "mimetype": "text/x-python",
   "name": "python",
   "nbconvert_exporter": "python",
   "pygments_lexer": "ipython3",
   "version": "3.7.9"
  }
 },
 "nbformat": 4,
 "nbformat_minor": 5
}
